{
 "cells": [
  {
   "cell_type": "code",
   "execution_count": 1,
   "metadata": {},
   "outputs": [],
   "source": [
    "import os\n",
    "import sys\n",
    "import math\n",
    "import random\n",
    "import argparse\n",
    "import numpy as np\n",
    "import matplotlib.pyplot as plt\n",
    "\n",
    "import torch\n",
    "import torch.nn as nn\n",
    "import torch.optim as optim\n",
    "from torch.distributions.normal import Normal\n",
    "import torchvision.transforms as transforms\n",
    "from torchvision.utils import save_image\n",
    "from torch.utils.data import DataLoader\n",
    "from torchvision import datasets\n",
    "from torch.autograd import Variable\n",
    "import torch.nn.functional as F\n",
    "import torch.autograd as autograd"
   ]
  },
  {
   "cell_type": "code",
   "execution_count": 2,
   "metadata": {},
   "outputs": [],
   "source": [
    "device = torch.device(\"cuda:0\" if torch.cuda.is_available() else \"cpu\")"
   ]
  },
  {
   "cell_type": "markdown",
   "metadata": {},
   "source": [
    "# Distribution functions (from *samplers.py*)"
   ]
  },
  {
   "cell_type": "code",
   "execution_count": 3,
   "metadata": {},
   "outputs": [],
   "source": [
    "def distribution1(x, batch_size=512):\n",
    "    # Distribution defined as (x, U(0,1)). Can be used for question 3\n",
    "    while True:\n",
    "        yield (np.array(\n",
    "            [(x, random.uniform(0, 1)) for _ in range(batch_size)]))"
   ]
  },
  {
   "cell_type": "code",
   "execution_count": 4,
   "metadata": {},
   "outputs": [],
   "source": [
    "def distribution2(batch_size=512):\n",
    "    # High dimension uniform distribution\n",
    "    while True:\n",
    "        yield (np.random.uniform(0, 1, (batch_size, 2)))"
   ]
  },
  {
   "cell_type": "markdown",
   "metadata": {},
   "source": [
    "# Question 1"
   ]
  },
  {
   "cell_type": "code",
   "execution_count": 5,
   "metadata": {},
   "outputs": [],
   "source": [
    "def JSD_objective(D, x, y):\n",
    "    D_x = D.forward(x)\n",
    "    D_y = D.forward(y)\n",
    "    return math.log(2) + 0.5 * (torch.mean(\n",
    "        torch.log(D_x))) + 0.5 * (torch.mean(torch.log(1 - D_y)))"
   ]
  },
  {
   "cell_type": "markdown",
   "metadata": {},
   "source": [
    "# Question 2"
   ]
  },
  {
   "cell_type": "code",
   "execution_count": 6,
   "metadata": {},
   "outputs": [],
   "source": [
    "# Calculates the gradient penalty loss for WGAN GP\n",
    "def compute_gradient_penalty(D, x, y):\n",
    "    # Random weight term for interpolation between real and fake samples\n",
    "    alpha = torch.randn(x.size(0), 1).to(device)\n",
    "    # Get random interpolation between real and fake samples\n",
    "    interpolates = (alpha * x + ((1 - alpha) * y)).requires_grad_(True)\n",
    "    d_interpolates = D(interpolates)\n",
    "    fake = torch.ones(x.shape[0], 1).to(device)\n",
    "    # Get gradient w.r.t. interpolates\n",
    "    gradients = autograd.grad(\n",
    "        outputs=d_interpolates,\n",
    "        inputs=interpolates,\n",
    "        grad_outputs=fake,\n",
    "        create_graph=True,\n",
    "        retain_graph=True,\n",
    "        only_inputs=True)[0]\n",
    "    gradients = gradients.view(gradients.size(0), -1)\n",
    "    gradient_penalty = ((gradients.norm(2, dim=1) - 1)**2).mean()\n",
    "    return gradient_penalty"
   ]
  },
  {
   "cell_type": "code",
   "execution_count": 7,
   "metadata": {},
   "outputs": [],
   "source": [
    "def WD_gp_objective(D, x, y):\n",
    "    lambda_gp = 10\n",
    "    D_x = D.forward(x)\n",
    "    D_y = D.forward(y)\n",
    "    return torch.mean(D_x) - torch.mean(\n",
    "        D_y) - lambda_gp * compute_gradient_penalty(D, x, y)"
   ]
  },
  {
   "cell_type": "markdown",
   "metadata": {},
   "source": [
    "# Question 3"
   ]
  },
  {
   "cell_type": "code",
   "execution_count": 8,
   "metadata": {},
   "outputs": [],
   "source": [
    "d_input_size = 2\n",
    "d_hidden_size = 75   \n",
    "d_output_size = 1\n",
    "\n",
    "class Discriminator(nn.Module):\n",
    "    def __init__(self, input_size, hidden_size, output_size):\n",
    "        super(Discriminator, self).__init__()\n",
    "        self.map1 = nn.Linear(input_size, hidden_size)\n",
    "        self.map2 = nn.Linear(hidden_size, hidden_size)\n",
    "        self.map3 = nn.Linear(hidden_size, output_size)\n",
    "        self.elu = torch.nn.ELU()\n",
    "    \n",
    "    def forward(self, x):\n",
    "        x = self.elu(self.map1(x))\n",
    "        x = self.elu(self.map2(x))\n",
    "        return torch.sigmoid( self.map3(x) )"
   ]
  },
  {
   "cell_type": "code",
   "execution_count": 9,
   "metadata": {},
   "outputs": [],
   "source": [
    "D = Discriminator(\n",
    "    input_size=d_input_size,\n",
    "    hidden_size=d_hidden_size,\n",
    "    output_size=d_output_size).to(device)\n",
    "d_optimizer = optim.SGD(D.parameters(), lr=0.001)"
   ]
  },
  {
   "cell_type": "code",
   "execution_count": 10,
   "metadata": {},
   "outputs": [],
   "source": [
    "def distance_estimate(dist1, dist2, n_epochs=1000, Wasserstein=False):\n",
    "    objective = WD_gp_objective if Wasserstein else JSD_objective\n",
    "    samplesx, samplesy = [], []\n",
    "    for i, (d1, d2) in enumerate(zip(dist1, dist2)):\n",
    "        if i >= n_epochs:\n",
    "            break\n",
    "        samplesx.append(d1)\n",
    "        samplesy.append(d2)\n",
    "\n",
    "    samplesx = torch.from_numpy(np.asarray(samplesx)).float().to(device)\n",
    "    samplesy = torch.from_numpy(np.asarray(samplesy)).float().to(device)\n",
    "\n",
    "    for x, y in zip(samplesx, samplesy):\n",
    "        d_optimizer.zero_grad()\n",
    "        loss_D = -objective(D, x, y)\n",
    "        loss_D.backward()\n",
    "        d_optimizer.step()\n",
    "    return -loss_D.item()"
   ]
  },
  {
   "cell_type": "code",
   "execution_count": 11,
   "metadata": {},
   "outputs": [],
   "source": [
    "dist1 = iter(distribution1(0))\n",
    "\n",
    "n_epochs = 1000\n",
    "\n",
    "y_axis_JSD = []\n",
    "y_axis_W = []\n",
    "phi = np.arange(-1, 1, 0.1)\n",
    "\n",
    "for p in phi:\n",
    "    dist1 = iter(distribution1(0))\n",
    "    dist2 = iter(distribution1(p))\n",
    "    y_axis_JSD.append(distance_estimate(dist1, dist2, n_epochs, False))\n",
    "    y_axis_W.append(distance_estimate(dist1, dist2, n_epochs, True))"
   ]
  },
  {
   "cell_type": "code",
   "execution_count": 12,
   "metadata": {},
   "outputs": [
    {
     "data": {
      "image/png": "[encoded data removed]",
      "text/plain": [
       "<Figure size 432x288 with 1 Axes>"
      ]
     },
     "metadata": {
      "needs_background": "light"
     },
     "output_type": "display_data"
    }
   ],
   "source": [
    "plt.plot(phi, y_axis_JSD, label=\"Jensen-Shannon\")\n",
    "plt.plot(phi, y_axis_W, label=\"Wasserstein\")\n",
    "plt.legend(title=\"Divergence\")\n",
    "plt.xlabel(\"Phi\")\n",
    "plt.show()"
   ]
  },
  {
   "cell_type": "code",
   "execution_count": null,
   "metadata": {},
   "outputs": [],
   "source": []
  },
  {
   "cell_type": "code",
   "execution_count": null,
   "metadata": {},
   "outputs": [],
   "source": []
  }
 ],
 "metadata": {
  "kernelspec": {
   "display_name": "Python 3",
   "language": "python",
   "name": "python3"
  },
  "language_info": {
   "codemirror_mode": {
    "name": "ipython",
    "version": 3
   },
   "file_extension": ".py",
   "mimetype": "text/x-python",
   "name": "python",
   "nbconvert_exporter": "python",
   "pygments_lexer": "ipython3",
   "version": "3.6.7"
  }
 },
 "nbformat": 4,
 "nbformat_minor": 2
}
