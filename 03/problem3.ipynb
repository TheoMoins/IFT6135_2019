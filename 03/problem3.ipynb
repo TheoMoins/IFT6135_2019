{
 "cells": [
  {
   "cell_type": "code",
   "execution_count": 1,
   "metadata": {},
   "outputs": [],
   "source": [
    "import torch\n",
    "from torch.utils.data import DataLoader\n",
    "import torch.nn as nn\n",
    "import torch.nn.functional as F\n",
    "import torch.distributions as d\n",
    "\n",
    "import math\n",
    "import scipy.io\n",
    "import subprocess\n",
    "import numpy as np\n",
    "import matplotlib.pyplot as plt\n",
    "from sklearn.model_selection import train_test_split"
   ]
  },
  {
   "cell_type": "code",
   "execution_count": 2,
   "metadata": {},
   "outputs": [],
   "source": [
    "BATCH_SIZE = 128"
   ]
  },
  {
   "cell_type": "markdown",
   "metadata": {},
   "source": [
    "# Download data"
   ]
  },
  {
   "cell_type": "markdown",
   "metadata": {},
   "source": [
    "Need to download only once (best to leave in comment after)"
   ]
  },
  {
   "cell_type": "code",
   "execution_count": 3,
   "metadata": {},
   "outputs": [],
   "source": [
    "#subprocess.call([\n",
    "#     \"wget\", \"-P\", \"./data/\",\n",
    "#     \"http://ufldl.stanford.edu/housenumbers/train_32x32.mat\"\n",
    "# ])"
   ]
  },
  {
   "cell_type": "code",
   "execution_count": 4,
   "metadata": {},
   "outputs": [],
   "source": [
    "# subprocess.call([\n",
    "#     \"wget\", \"-P\", \"./data/\",\n",
    "#     \"http://ufldl.stanford.edu/housenumbers/test_32x32.mat\"\n",
    "# ])"
   ]
  },
  {
   "cell_type": "markdown",
   "metadata": {},
   "source": [
    "# Load data"
   ]
  },
  {
   "cell_type": "code",
   "execution_count": 5,
   "metadata": {},
   "outputs": [],
   "source": [
    "def load_amat(path):\n",
    "    mat = scipy.io.loadmat(path)\n",
    "    x = mat['X']\n",
    "    y = mat['y']\n",
    "    x = np.moveaxis(x, 3, 0)\n",
    "    x = np.moveaxis(x, 3, 1)\n",
    "    x = x / 255\n",
    "    return x.astype(np.float32), y"
   ]
  },
  {
   "cell_type": "code",
   "execution_count": 6,
   "metadata": {},
   "outputs": [],
   "source": [
    "x_train, y_train = load_amat(\"data/train_32x32.mat\")\n",
    "x_test, _ = load_amat(\"data/test_32x32.mat\")"
   ]
  },
  {
   "cell_type": "code",
   "execution_count": 7,
   "metadata": {},
   "outputs": [],
   "source": [
    "# we need y_train to be able to stratify the validation split\n",
    "x_train, x_val = train_test_split(x_train, test_size=0.1, stratify=y_train)"
   ]
  },
  {
   "cell_type": "code",
   "execution_count": 8,
   "metadata": {},
   "outputs": [],
   "source": [
    "trainloader = DataLoader(x_train, batch_size=BATCH_SIZE, shuffle=True)\n",
    "validloader = DataLoader(x_val, batch_size=BATCH_SIZE, shuffle=False)\n",
    "testloader = DataLoader(x_test, batch_size=BATCH_SIZE, shuffle=False)"
   ]
  },
  {
   "cell_type": "markdown",
   "metadata": {},
   "source": [
    "# VAE"
   ]
  },
  {
   "cell_type": "code",
   "execution_count": 9,
   "metadata": {},
   "outputs": [],
   "source": [
    "class VAE(nn.Module):\n",
    "    def __init__(self, dim=100):\n",
    "        super(VAE, self).__init__()\n",
    "\n",
    "        self.dim = dim\n",
    "\n",
    "        #ENCODER LAYERS\n",
    "        self.encoder = nn.Sequential(\n",
    "            nn.Conv2d(in_channels=3, out_channels=32, kernel_size=3), nn.ELU(),\n",
    "            nn.AvgPool2d(kernel_size=2, stride=2),\n",
    "            nn.Conv2d(in_channels=32, out_channels=64,\n",
    "                      kernel_size=3), nn.ELU(),\n",
    "            nn.AvgPool2d(kernel_size=2, stride=2),\n",
    "            nn.Conv2d(in_channels=64, out_channels=256, kernel_size=6),\n",
    "            nn.ELU())\n",
    "        self.hidden_1 = nn.Linear(256, 200)\n",
    "\n",
    "        #DECODER LAYERS\n",
    "        self.hidden_2 = nn.Linear(100, 256)\n",
    "        self.decoder = nn.Sequential(\n",
    "            nn.ELU(),\n",
    "            nn.Conv2d(\n",
    "                in_channels=256, out_channels=64, kernel_size=6, padding=5),\n",
    "            nn.ELU(), nn.UpsamplingBilinear2d(scale_factor=2),\n",
    "            nn.Conv2d(\n",
    "                in_channels=64, out_channels=32, kernel_size=3, padding=2),\n",
    "            nn.ELU(), nn.UpsamplingBilinear2d(scale_factor=2),\n",
    "            nn.Conv2d(\n",
    "                in_channels=32, out_channels=16, kernel_size=3, padding=2),\n",
    "            nn.ELU(),\n",
    "            nn.Conv2d(\n",
    "                in_channels=16, out_channels=3, kernel_size=3, padding=2),\n",
    "            nn.Sigmoid())\n",
    "\n",
    "    def encode(self, x):\n",
    "        q_params = self.hidden_1(self.encoder(x).view(x.shape[0], 256))\n",
    "        mu = q_params[:, :self.dim]\n",
    "        logvar = q_params[:, self.dim:]\n",
    "        return mu, logvar\n",
    "\n",
    "    def decode(self, z, x):\n",
    "        # we need x to abstract from the batch size\n",
    "        return self.decoder(self.hidden_2(z).view(x.shape[0], 256, 1, 1))\n",
    "\n",
    "    def sample(self, mu, logvar, x):\n",
    "        # we need x to abstract from the batch size\n",
    "        eps = torch.randn(x.shape[0], self.dim).to(device)\n",
    "        return mu + eps * (0.5 * logvar).exp()\n",
    "\n",
    "    def forward(self, x):\n",
    "        mu, logvar = self.encode(x)\n",
    "        z = self.sample(mu, logvar, x)\n",
    "        x_hat = self.decode(z, x)\n",
    "        return x_hat, mu, logvar\n",
    "\n",
    "    def criterion(self, x_hat, x, mu, logvar):\n",
    "        # BCE = -log(p) because gradient descent and not ascent\n",
    "        BCE = F.mse_loss(x_hat, x, reduction='sum') \n",
    "        KLD = 0.5 * torch.sum(-1 - logvar + mu.pow(2) + logvar.exp())\n",
    "        # criterion returns -ELBO !\n",
    "        return (BCE + KLD) / x.shape[0]\n",
    "\n",
    "    def generate(self, size):\n",
    "        with torch.no_grad():\n",
    "            return self.decoder(self.hidden_2(torch.randn(size, self.dim).to(device)).view(size, 256, 1, 1))\n",
    "        \n",
    "    \n",
    "    def evaluate(self, loader):\n",
    "        with torch.no_grad():\n",
    "            loss = 0\n",
    "            for i, data in enumerate(loader, 1):\n",
    "                # get the inputs\n",
    "                x = data.to(device)\n",
    "                x_hat, mu, logvar = self.forward(x)\n",
    "                loss += self.criterion(x_hat, x, mu, logvar).item()\n",
    "        return loss / len(loader)"
   ]
  },
  {
   "cell_type": "code",
   "execution_count": 10,
   "metadata": {},
   "outputs": [
    {
     "name": "stdout",
     "output_type": "stream",
     "text": [
      "Let's use cuda:1\n"
     ]
    }
   ],
   "source": [
    "# create model and move it to device\n",
    "model = VAE()\n",
    "device = torch.device(\"cuda:1\" if torch.cuda.is_available() else \"cpu\")\n",
    "model.to(device)\n",
    "print(\"Let's use {}\".format(device))"
   ]
  },
  {
   "cell_type": "code",
   "execution_count": 11,
   "metadata": {},
   "outputs": [
    {
     "name": "stderr",
     "output_type": "stream",
     "text": [
      "/home/quentin/venv/lib/python3.6/site-packages/torch/nn/modules/upsampling.py:129: UserWarning: nn.UpsamplingBilinear2d is deprecated. Use nn.functional.interpolate instead.\n",
      "  warnings.warn(\"nn.{} is deprecated. Use nn.functional.interpolate instead.\".format(self.name))\n"
     ]
    },
    {
     "name": "stdout",
     "output_type": "stream",
     "text": [
      "epoch  1: loss:   57.780    val_loss:   44.147\n",
      "epoch  2: loss:   41.778    val_loss:   40.275\n",
      "epoch  3: loss:   39.277    val_loss:   38.456\n",
      "epoch  4: loss:   38.172    val_loss:   37.886\n",
      "epoch  5: loss:   37.627    val_loss:   38.088\n",
      "epoch  6: loss:   37.211    val_loss:   37.165\n",
      "epoch  7: loss:   36.869    val_loss:   36.878\n",
      "epoch  8: loss:   36.677    val_loss:   36.551\n",
      "epoch  9: loss:   36.506    val_loss:   36.806\n",
      "epoch 10: loss:   36.361    val_loss:   36.424\n",
      "epoch 11: loss:   36.222    val_loss:   36.063\n",
      "epoch 12: loss:   36.051    val_loss:   36.133\n",
      "epoch 13: loss:   35.962    val_loss:   35.931\n",
      "epoch 14: loss:   35.872    val_loss:   35.923\n",
      "epoch 15: loss:   35.797    val_loss:   35.766\n",
      "epoch 16: loss:   35.720    val_loss:   35.629\n",
      "epoch 17: loss:   35.626    val_loss:   35.649\n",
      "epoch 18: loss:   35.562    val_loss:   35.655\n",
      "epoch 19: loss:   35.501    val_loss:   35.636\n",
      "epoch 20: loss:   35.417    val_loss:   35.340\n",
      "epoch 21: loss:   35.388    val_loss:   35.572\n",
      "epoch 22: loss:   35.322    val_loss:   35.372\n",
      "epoch 23: loss:   35.264    val_loss:   35.278\n",
      "epoch 24: loss:   35.236    val_loss:   35.301\n",
      "epoch 25: loss:   35.207    val_loss:   35.521\n",
      "epoch 26: loss:   35.168    val_loss:   35.248\n",
      "epoch 27: loss:   35.075    val_loss:   35.170\n",
      "epoch 28: loss:   35.050    val_loss:   35.149\n",
      "epoch 29: loss:   35.032    val_loss:   35.116\n",
      "epoch 30: loss:   35.007    val_loss:   35.171\n",
      "epoch 31: loss:   34.982    val_loss:   35.058\n",
      "epoch 32: loss:   34.949    val_loss:   35.150\n",
      "epoch 33: loss:   34.930    val_loss:   34.943\n",
      "epoch 34: loss:   34.906    val_loss:   34.976\n",
      "epoch 35: loss:   34.863    val_loss:   34.828\n",
      "epoch 36: loss:   34.834    val_loss:   34.875\n",
      "epoch 37: loss:   34.806    val_loss:   34.928\n",
      "epoch 38: loss:   34.795    val_loss:   34.954\n",
      "epoch 39: loss:   34.775    val_loss:   34.799\n",
      "epoch 40: loss:   34.724    val_loss:   34.706\n",
      "epoch 41: loss:   34.704    val_loss:   34.698\n",
      "epoch 42: loss:   34.685    val_loss:   34.791\n",
      "epoch 43: loss:   34.666    val_loss:   34.702\n",
      "epoch 44: loss:   34.645    val_loss:   34.713\n",
      "epoch 45: loss:   34.627    val_loss:   34.782\n",
      "epoch 46: loss:   34.641    val_loss:   34.736\n",
      "epoch 47: loss:   34.587    val_loss:   34.632\n",
      "epoch 48: loss:   34.598    val_loss:   34.711\n",
      "epoch 49: loss:   34.546    val_loss:   34.570\n",
      "epoch 50: loss:   34.521    val_loss:   34.644\n"
     ]
    }
   ],
   "source": [
    "optimizer = torch.optim.Adam(model.parameters(), lr=3e-4)\n",
    "for epoch in range(50):\n",
    "    running_loss = 0.0\n",
    "    for i, data in enumerate(trainloader, 0):\n",
    "        x = data.to(device)\n",
    "\n",
    "        # zero the parameter gradients\n",
    "        optimizer.zero_grad()\n",
    "\n",
    "        # forward + backward + optimize\n",
    "        x_hat, mu, logvar = model.forward(x)\n",
    "\n",
    "        loss = model.criterion(x_hat, x, mu, logvar)\n",
    "        loss.backward()\n",
    "        optimizer.step()\n",
    "\n",
    "        running_loss += loss.item()\n",
    "\n",
    "    # print statistics\n",
    "    train_loss = running_loss / i\n",
    "    val_loss = model.evaluate(validloader)\n",
    "    print('epoch {:2d}: loss: {:8.3f}    val_loss: {:8.3f}'.format(\n",
    "        epoch + 1, train_loss, val_loss))"
   ]
  },
  {
   "cell_type": "code",
   "execution_count": 12,
   "metadata": {},
   "outputs": [],
   "source": [
    "images = model.generate(9).cpu().numpy()"
   ]
  },
  {
   "cell_type": "code",
   "execution_count": 13,
   "metadata": {},
   "outputs": [],
   "source": [
    "images = np.moveaxis(images, 1, 3)"
   ]
  },
  {
   "cell_type": "code",
   "execution_count": 14,
   "metadata": {},
   "outputs": [
    {
     "data": {
      "image/png": "[encoded data removed]",
      "text/plain": [
       "<Figure size 432x432 with 9 Axes>"
      ]
     },
     "metadata": {
      "needs_background": "light"
     },
     "output_type": "display_data"
    }
   ],
   "source": [
    "f, axis = plt.subplots(3, 3, figsize=(6,6))\n",
    "\n",
    "for i, img in enumerate(images, 0):\n",
    "    axis[math.floor(i/3),i%3].imshow(img)\n",
    "    axis[math.floor(i/3),i%3].set_axis_off()\n",
    "    axis[math.floor(i/3),i%3].set_aspect('equal')\n",
    "\n",
    "f.subplots_adjust(wspace=0, hspace=0.1)\n",
    "plt.show()"
   ]
  },
  {
   "cell_type": "code",
   "execution_count": null,
   "metadata": {},
   "outputs": [],
   "source": []
  }
 ],
 "metadata": {
  "kernelspec": {
   "display_name": "Python 3",
   "language": "python",
   "name": "python3"
  },
  "language_info": {
   "codemirror_mode": {
    "name": "ipython",
    "version": 3
   },
   "file_extension": ".py",
   "mimetype": "text/x-python",
   "name": "python",
   "nbconvert_exporter": "python",
   "pygments_lexer": "ipython3",
   "version": "3.6.7"
  }
 },
 "nbformat": 4,
 "nbformat_minor": 2
}
