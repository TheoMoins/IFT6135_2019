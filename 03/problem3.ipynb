{
 "cells": [
  {
   "cell_type": "code",
   "execution_count": null,
   "metadata": {},
   "outputs": [],
   "source": [
    "import torch\n",
    "from torch.utils.data import DataLoader\n",
    "import torch.nn as nn\n",
    "import torch.nn.functional as F\n",
    "import torch.distributions as d\n",
    "\n",
    "import math\n",
    "import scipy.io\n",
    "import subprocess\n",
    "import numpy as np\n",
    "import matplotlib.pyplot as plt\n",
    "from sklearn.model_selection import train_test_split"
   ]
  },
  {
   "cell_type": "code",
   "execution_count": null,
   "metadata": {},
   "outputs": [],
   "source": [
    "# Global variables\n",
    "BATCH_SIZE = 512"
   ]
  },
  {
   "cell_type": "markdown",
   "metadata": {},
   "source": [
    "# Download data"
   ]
  },
  {
   "cell_type": "markdown",
   "metadata": {},
   "source": [
    "Calls to download datasets. Be careful, you should run those cells only once! It is best to comment them after."
   ]
  },
  {
   "cell_type": "code",
   "execution_count": null,
   "metadata": {},
   "outputs": [],
   "source": [
    "#subprocess.call([\n",
    "#     \"wget\", \"-P\", \"./data/\",\n",
    "#     \"http://ufldl.stanford.edu/housenumbers/train_32x32.mat\"\n",
    "# ])"
   ]
  },
  {
   "cell_type": "code",
   "execution_count": null,
   "metadata": {},
   "outputs": [],
   "source": [
    "# subprocess.call([\n",
    "#     \"wget\", \"-P\", \"./data/\",\n",
    "#     \"http://ufldl.stanford.edu/housenumbers/test_32x32.mat\"\n",
    "# ])"
   ]
  },
  {
   "cell_type": "markdown",
   "metadata": {},
   "source": [
    "# Load data"
   ]
  },
  {
   "cell_type": "code",
   "execution_count": null,
   "metadata": {},
   "outputs": [],
   "source": [
    "def load_amat(path):\n",
    "    mat = scipy.io.loadmat(path)\n",
    "    x = mat['X']\n",
    "    y = mat['y']\n",
    "    x = np.moveaxis(x, 3, 0)\n",
    "    x = np.moveaxis(x, 3, 1)\n",
    "    x = x / 255\n",
    "    return x.astype(np.float32), y"
   ]
  },
  {
   "cell_type": "code",
   "execution_count": null,
   "metadata": {},
   "outputs": [],
   "source": [
    "x_train, y_train = load_amat(\"data/train_32x32.mat\")\n",
    "x_test, _ = load_amat(\"data/test_32x32.mat\")"
   ]
  },
  {
   "cell_type": "code",
   "execution_count": null,
   "metadata": {},
   "outputs": [],
   "source": [
    "# we need y_train to be able to stratify the validation split\n",
    "x_train, x_val = train_test_split(x_train, test_size=0.1, stratify=y_train)"
   ]
  },
  {
   "cell_type": "code",
   "execution_count": null,
   "metadata": {},
   "outputs": [],
   "source": [
    "trainloader = DataLoader(x_train, batch_size=BATCH_SIZE, shuffle=True)\n",
    "validloader = DataLoader(x_val, batch_size=BATCH_SIZE, shuffle=False)\n",
    "testloader = DataLoader(x_test, batch_size=BATCH_SIZE, shuffle=False)"
   ]
  },
  {
   "cell_type": "markdown",
   "metadata": {},
   "source": [
    "# Models"
   ]
  },
  {
   "cell_type": "markdown",
   "metadata": {},
   "source": [
    "### VAE"
   ]
  },
  {
   "cell_type": "code",
   "execution_count": null,
   "metadata": {},
   "outputs": [],
   "source": [
    "class VAE(nn.Module):\n",
    "    def __init__(self, dim=100):\n",
    "        super(VAE, self).__init__()\n",
    "\n",
    "        self.dim = dim\n",
    "\n",
    "        #ENCODER LAYERS\n",
    "        self.encoder = nn.Sequential(\n",
    "            nn.BatchNorm2d(3),\n",
    "            nn.Conv2d(in_channels=3, out_channels=32, kernel_size=3),\n",
    "            nn.BatchNorm2d(32), nn.ELU(), nn.AvgPool2d(\n",
    "                kernel_size=2, stride=2),\n",
    "            nn.Conv2d(in_channels=32, out_channels=64, kernel_size=3),\n",
    "            nn.BatchNorm2d(64), nn.ELU(), nn.AvgPool2d(\n",
    "                kernel_size=2, stride=2),\n",
    "            nn.Conv2d(in_channels=64, out_channels=256, kernel_size=6),\n",
    "            nn.BatchNorm2d(256), nn.ELU())\n",
    "        self.hidden_1 = nn.Linear(256, 200)\n",
    "\n",
    "        #DECODER LAYERS\n",
    "        self.hidden_2 = nn.Linear(100, 256)\n",
    "        self.decoder = nn.Sequential(\n",
    "            nn.BatchNorm2d(256), nn.ELU(),\n",
    "            nn.Conv2d(\n",
    "                in_channels=256, out_channels=64, kernel_size=6, padding=5),\n",
    "            nn.BatchNorm2d(64), nn.ELU(),\n",
    "            nn.UpsamplingBilinear2d(scale_factor=2),\n",
    "            nn.Conv2d(\n",
    "                in_channels=64, out_channels=32, kernel_size=3, padding=2),\n",
    "            nn.BatchNorm2d(32), nn.ELU(),\n",
    "            nn.UpsamplingBilinear2d(scale_factor=2),\n",
    "            nn.Conv2d(\n",
    "                in_channels=32, out_channels=16, kernel_size=3, padding=2),\n",
    "            nn.BatchNorm2d(16), nn.ELU(),\n",
    "            nn.Conv2d(\n",
    "                in_channels=16, out_channels=3, kernel_size=3, padding=2),\n",
    "            nn.BatchNorm2d(3), nn.Sigmoid())\n",
    "\n",
    "    def encode(self, x):\n",
    "        q_params = self.hidden_1(self.encoder(x).view(x.shape[0], 256))\n",
    "        mu = q_params[:, :self.dim]\n",
    "        logvar = q_params[:, self.dim:]\n",
    "        return mu, logvar\n",
    "\n",
    "    def decode(self, z, x):\n",
    "        # we need x to abstract from the batch size\n",
    "        return self.decoder(self.hidden_2(z).view(x.shape[0], 256, 1, 1))\n",
    "\n",
    "    def sample(self, mu, logvar, x):\n",
    "        # we need x to abstract from the batch size\n",
    "        eps = torch.randn(x.shape[0], self.dim).to(device)\n",
    "        return mu + eps * (0.5 * logvar).exp()\n",
    "\n",
    "    def forward(self, x):\n",
    "        mu, logvar = self.encode(x)\n",
    "        z = self.sample(mu, logvar, x)\n",
    "        x_hat = self.decode(z, x)\n",
    "        return x_hat, mu, logvar\n",
    "\n",
    "    def criterion(self, x_hat, x, mu, logvar):\n",
    "        # BCE = -log(p) because gradient descent and not ascent\n",
    "        BCE = F.mse_loss(x_hat, x, reduction=\"sum\")\n",
    "        KLD = 0.5 * torch.sum(-1 - logvar + mu.pow(2) + logvar.exp())\n",
    "        # criterion returns -ELBO !\n",
    "        return (BCE + KLD) / x.shape[0]\n",
    "\n",
    "    def generate(self, sample):\n",
    "        with torch.no_grad():\n",
    "            return self.decoder(\n",
    "                self.hidden_2(sample.to(device)).view(sample.shape[0], 256, 1,\n",
    "                                                      1))\n",
    "\n",
    "    def evaluate(self, loader):\n",
    "        with torch.no_grad():\n",
    "            loss = 0\n",
    "            for i, data in enumerate(loader, 1):\n",
    "                # get the inputs\n",
    "                x = data.to(device)\n",
    "                x_hat, mu, logvar = self.forward(x)\n",
    "                loss += self.criterion(x_hat, x, mu, logvar).item()\n",
    "        return loss / len(loader)"
   ]
  },
  {
   "cell_type": "markdown",
   "metadata": {},
   "source": [
    "### GAN"
   ]
  },
  {
   "cell_type": "code",
   "execution_count": null,
   "metadata": {},
   "outputs": [],
   "source": []
  },
  {
   "cell_type": "markdown",
   "metadata": {},
   "source": [
    "# Train models"
   ]
  },
  {
   "cell_type": "markdown",
   "metadata": {},
   "source": [
    "### VAE"
   ]
  },
  {
   "cell_type": "code",
   "execution_count": null,
   "metadata": {},
   "outputs": [],
   "source": [
    "# create model and move it to device\n",
    "vae = VAE()\n",
    "device = torch.device(\"cuda:0\" if torch.cuda.is_available() else \"cpu\")\n",
    "vae.to(device)\n",
    "print(\"Let's use {}\".format(device))"
   ]
  },
  {
   "cell_type": "code",
   "execution_count": null,
   "metadata": {},
   "outputs": [],
   "source": [
    "# this part might fail if you are using a RTX card. Running again this cell should work.\n",
    "optimizer = torch.optim.Adam(vae.parameters(), lr=1e-4)\n",
    "vae = vae.train()\n",
    "\n",
    "epoch = 0\n",
    "early_stopping = 0\n",
    "best_model = vae\n",
    "best_val_loss = 9999\n",
    "\n",
    "while early_stopping < 5:\n",
    "    epoch += 1\n",
    "    running_loss = 0.0\n",
    "    for i, data in enumerate(trainloader, 0):\n",
    "        x = data.to(device)\n",
    "        optimizer.zero_grad()\n",
    "        x_hat, mu, logvar = vae.forward(x)\n",
    "        loss = vae.criterion(x_hat, x, mu, logvar)\n",
    "        loss.backward()\n",
    "        optimizer.step()\n",
    "        running_loss += loss.item()\n",
    "\n",
    "    train_loss = running_loss / i\n",
    "    val_loss = vae.evaluate(validloader)\n",
    "\n",
    "    if val_loss < best_val_loss:\n",
    "        best_val_loss = val_loss\n",
    "        best_model = vae\n",
    "        early_stopping = 0\n",
    "        print(\n",
    "            'epoch {:2d}:  loss: {:6.2f}  val_loss: {:6.2f} [NEW BEST]'.format(\n",
    "                epoch, train_loss, val_loss))\n",
    "    else:\n",
    "        early_stopping += 1\n",
    "        print('epoch {:2d}:  loss: {:6.2f}  val_loss: {:6.2f}'.format(\n",
    "            epoch, train_loss, val_loss))\n",
    "\n",
    "vae = best_model\n",
    "vae = vae.eval()"
   ]
  },
  {
   "cell_type": "markdown",
   "metadata": {},
   "source": [
    "### GAN"
   ]
  },
  {
   "cell_type": "code",
   "execution_count": null,
   "metadata": {},
   "outputs": [],
   "source": []
  },
  {
   "cell_type": "markdown",
   "metadata": {},
   "source": [
    "# Generate sample"
   ]
  },
  {
   "cell_type": "code",
   "execution_count": null,
   "metadata": {},
   "outputs": [],
   "source": [
    "def generate_samples(model, size=9):\n",
    "    images = model.generate(torch.randn(size, 100)).cpu().numpy()\n",
    "    images = np.moveaxis(images, 1, 3)\n",
    "    grid = math.floor(math.sqrt(len(images)))\n",
    "    f, axis = plt.subplots(grid, grid, figsize=(6, 6))\n",
    "    for i in range(grid):\n",
    "        for j in range(grid):\n",
    "            axis[i, j].imshow(images[i * grid + j])\n",
    "            axis[i, j].set_axis_off()\n",
    "            axis[i, j].set_aspect('equal')\n",
    "    f.subplots_adjust(wspace=0, hspace=0.1)\n",
    "    plt.show()"
   ]
  },
  {
   "cell_type": "markdown",
   "metadata": {},
   "source": [
    "### VAE"
   ]
  },
  {
   "cell_type": "code",
   "execution_count": null,
   "metadata": {},
   "outputs": [],
   "source": [
    "generate_samples(vae, size=16)"
   ]
  },
  {
   "cell_type": "markdown",
   "metadata": {},
   "source": [
    "### GAN"
   ]
  },
  {
   "cell_type": "code",
   "execution_count": null,
   "metadata": {},
   "outputs": [],
   "source": [
    "# generate_samples(gan, size=16)"
   ]
  },
  {
   "cell_type": "markdown",
   "metadata": {},
   "source": [
    "# Disentangled representation "
   ]
  },
  {
   "cell_type": "code",
   "execution_count": null,
   "metadata": {},
   "outputs": [],
   "source": [
    "def disentangle(model, dim=[0, 1, 2], eps=0.01, size=10):\n",
    "    z = torch.randn(1, 100)\n",
    "    f, axis = plt.subplots(len(dim), size, figsize=(size, len(dim)))\n",
    "    for i, d in enumerate(dim):\n",
    "        interpolation = z.repeat(size, 1)\n",
    "        for j, s in enumerate(interpolation):\n",
    "            interpolation[j][d] += (j - size / 2) * eps\n",
    "        images = model.generate(interpolation).cpu().numpy()\n",
    "        images = np.moveaxis(images, 1, 3)\n",
    "        for j, img in enumerate(images):\n",
    "            if j == 0:\n",
    "                axis[i, j].set_ylabel(\n",
    "                    'dim {}'.format(d), labelpad=20, rotation='horizontal')\n",
    "            axis[i, j].imshow(img)\n",
    "            axis[i, j].get_xaxis().set_ticks([])\n",
    "            axis[i, j].get_yaxis().set_ticks([])\n",
    "            axis[i, j].set_aspect('equal')\n",
    "    f.subplots_adjust(wspace=0.1, hspace=0.1)\n",
    "    plt.show()"
   ]
  },
  {
   "cell_type": "markdown",
   "metadata": {},
   "source": [
    "### VAE"
   ]
  },
  {
   "cell_type": "code",
   "execution_count": null,
   "metadata": {},
   "outputs": [],
   "source": [
    "disentangle(vae, dim=range(100), eps=0.1, size=10)"
   ]
  },
  {
   "cell_type": "markdown",
   "metadata": {},
   "source": [
    "### GAN"
   ]
  },
  {
   "cell_type": "code",
   "execution_count": null,
   "metadata": {},
   "outputs": [],
   "source": [
    "# disentangle(gan, dim=range(100), eps=0.1, size=10)"
   ]
  },
  {
   "cell_type": "markdown",
   "metadata": {},
   "source": [
    "# Interpolate between two points"
   ]
  },
  {
   "cell_type": "markdown",
   "metadata": {},
   "source": [
    "## In latent space"
   ]
  },
  {
   "cell_type": "code",
   "execution_count": null,
   "metadata": {},
   "outputs": [],
   "source": [
    "def latent_interpolation(model, size):\n",
    "    z1 = torch.randn(1, 100)\n",
    "    z2 = torch.randn(1, 100)\n",
    "    eps = (z2 - z1) / size\n",
    "    z = z1.repeat(size, 1)\n",
    "    for i, s in enumerate(z):\n",
    "        z[i] = s + i * eps\n",
    "    images = model.generate(z).cpu().numpy()\n",
    "    images = np.moveaxis(images, 1, 3)\n",
    "    f, axis = plt.subplots(1, size, figsize=(size, 3))\n",
    "    for i, img in enumerate(images):\n",
    "        axis[i].imshow(img)\n",
    "        axis[i].set_axis_off()\n",
    "        axis[i].set_aspect('equal')\n",
    "    f.subplots_adjust(wspace=0.1, hspace=0.1)\n",
    "    plt.show()"
   ]
  },
  {
   "cell_type": "markdown",
   "metadata": {},
   "source": [
    "### VAE"
   ]
  },
  {
   "cell_type": "code",
   "execution_count": null,
   "metadata": {},
   "outputs": [],
   "source": [
    "latent_interpolation(vae, 20)"
   ]
  },
  {
   "cell_type": "markdown",
   "metadata": {},
   "source": [
    "### GAN"
   ]
  },
  {
   "cell_type": "code",
   "execution_count": null,
   "metadata": {},
   "outputs": [],
   "source": [
    "# latent_interpolation(gan, 10)"
   ]
  },
  {
   "cell_type": "markdown",
   "metadata": {},
   "source": [
    "## In original space"
   ]
  },
  {
   "cell_type": "code",
   "execution_count": null,
   "metadata": {},
   "outputs": [],
   "source": []
  },
  {
   "cell_type": "markdown",
   "metadata": {},
   "source": [
    "### VAE"
   ]
  },
  {
   "cell_type": "code",
   "execution_count": null,
   "metadata": {},
   "outputs": [],
   "source": [
    "# original_interpolation(vae, 10)"
   ]
  },
  {
   "cell_type": "markdown",
   "metadata": {},
   "source": [
    "### GAN"
   ]
  },
  {
   "cell_type": "code",
   "execution_count": null,
   "metadata": {},
   "outputs": [],
   "source": [
    "# original_interpolation(gan, 10)"
   ]
  },
  {
   "cell_type": "code",
   "execution_count": null,
   "metadata": {},
   "outputs": [],
   "source": []
  }
 ],
 "metadata": {
  "kernelspec": {
   "display_name": "Python 3",
   "language": "python",
   "name": "python3"
  },
  "language_info": {
   "codemirror_mode": {
    "name": "ipython",
    "version": 3
   },
   "file_extension": ".py",
   "mimetype": "text/x-python",
   "name": "python",
   "nbconvert_exporter": "python",
   "pygments_lexer": "ipython3",
   "version": "3.6.7"
  }
 },
 "nbformat": 4,
 "nbformat_minor": 2
}
