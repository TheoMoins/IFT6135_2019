{
 "cells": [
  {
   "cell_type": "code",
   "execution_count": 1,
   "metadata": {},
   "outputs": [],
   "source": [
    "import torch\n",
    "import torch.utils.data\n",
    "import torch.nn as nn\n",
    "import torch.nn.functional as F\n",
    "\n",
    "import math\n",
    "import numpy as np"
   ]
  },
  {
   "cell_type": "markdown",
   "metadata": {},
   "source": [
    "# Load data"
   ]
  },
  {
   "cell_type": "code",
   "execution_count": 2,
   "metadata": {},
   "outputs": [],
   "source": [
    "path_train = \"data/binarized_mnist_train.amat\"\n",
    "path_valid = \"data/binarized_mnist_valid.amat\"\n",
    "path_test = \"data/binarized_mnist_test.amat\""
   ]
  },
  {
   "cell_type": "code",
   "execution_count": 3,
   "metadata": {},
   "outputs": [],
   "source": [
    "def data_loader(path):\n",
    "    with open(path_train) as file:\n",
    "        x = [\n",
    "            np.array(list(map(int, img.split()))).reshape(1, 28, 28)\n",
    "            for img in file.readlines()\n",
    "        ]\n",
    "    return torch.from_numpy(np.asarray(x)).float()"
   ]
  },
  {
   "cell_type": "code",
   "execution_count": 4,
   "metadata": {},
   "outputs": [],
   "source": [
    "train = torch.utils.data.TensorDataset(data_loader(path_train))\n",
    "trainloader = torch.utils.data.DataLoader(\n",
    "    train, batch_size=128, drop_last=True, shuffle=True)"
   ]
  },
  {
   "cell_type": "code",
   "execution_count": 5,
   "metadata": {},
   "outputs": [],
   "source": [
    "valid = torch.utils.data.TensorDataset(data_loader(path_train))\n",
    "validloader = torch.utils.data.DataLoader(\n",
    "    train, batch_size=128, drop_last=True, shuffle=False)"
   ]
  },
  {
   "cell_type": "code",
   "execution_count": 6,
   "metadata": {},
   "outputs": [],
   "source": [
    "test = torch.utils.data.TensorDataset(data_loader(path_train))\n",
    "testloader = torch.utils.data.DataLoader(\n",
    "    train, batch_size=128, drop_last=True, shuffle=False)"
   ]
  },
  {
   "cell_type": "markdown",
   "metadata": {},
   "source": [
    "# Model"
   ]
  },
  {
   "cell_type": "code",
   "execution_count": 10,
   "metadata": {},
   "outputs": [],
   "source": [
    "class VAE(nn.Module):\n",
    "    def __init__(self, dim=100, batch_size=128):\n",
    "        super(VAE, self).__init__()\n",
    "\n",
    "        self.dim = dim\n",
    "        self.batch_size = batch_size\n",
    "\n",
    "        #ENCODER LAYERS\n",
    "        self.encoder = nn.Sequential(\n",
    "            nn.Conv2d(in_channels=1, out_channels=32, kernel_size=3), nn.ELU(),\n",
    "            nn.AvgPool2d(kernel_size=2, stride=2),\n",
    "            nn.Conv2d(in_channels=32, out_channels=64,\n",
    "                      kernel_size=3), nn.ELU(),\n",
    "            nn.AvgPool2d(kernel_size=2, stride=2),\n",
    "            nn.Conv2d(in_channels=64, out_channels=256, kernel_size=5),\n",
    "            nn.ELU())\n",
    "        self.hidden_1 = nn.Linear(256, 200)\n",
    "\n",
    "        #DECODER LAYERS\n",
    "        self.hidden_2 = nn.Linear(100, 256)\n",
    "        self.decoder = nn.Sequential(\n",
    "            nn.ELU(),\n",
    "            nn.Conv2d(\n",
    "                in_channels=256, out_channels=64, kernel_size=5, padding=4),\n",
    "            nn.ELU(), nn.UpsamplingBilinear2d(scale_factor=2),\n",
    "            nn.Conv2d(\n",
    "                in_channels=64, out_channels=32, kernel_size=3, padding=2),\n",
    "            nn.ELU(), nn.UpsamplingBilinear2d(scale_factor=2),\n",
    "            nn.Conv2d(\n",
    "                in_channels=32, out_channels=16, kernel_size=3, padding=2),\n",
    "            nn.ELU(),\n",
    "            nn.Conv2d(\n",
    "                in_channels=16, out_channels=1, kernel_size=3, padding=2),\n",
    "            nn.Sigmoid())\n",
    "\n",
    "    def encode(self, x):\n",
    "        q_params = self.hidden_1(self.encoder(x).view(self.batch_size, 256))\n",
    "        mu = q_params[:, :self.dim]\n",
    "        logvar = q_params[:, self.dim:]\n",
    "        return mu, logvar\n",
    "\n",
    "    def decode(self, z):\n",
    "        return self.decoder(self.hidden_2(z).view(self.batch_size, 256, 1, 1))\n",
    "\n",
    "    def sample(self, mu, logvar):\n",
    "        eps = torch.randn(self.batch_size, self.dim).to(device)\n",
    "        return mu + eps * (0.5 * logvar).exp()\n",
    "\n",
    "    def forward(self, x):\n",
    "        mu, logvar = self.encode(x)\n",
    "        z = self.sample(mu, logvar)\n",
    "        x_hat = self.decode(z)\n",
    "        return x_hat, mu, logvar\n",
    "\n",
    "    def criterion(self, x_hat, x, mu, logvar):\n",
    "        BCE = F.binary_cross_entropy(x_hat, x, reduction='mean')\n",
    "        KLD = -0.5 * torch.sum(1 + logvar - mu.pow(2) - logvar.exp())\n",
    "        return BCE + KLD\n",
    "\n",
    "    def evaluate(self, loader):\n",
    "        with torch.no_grad():\n",
    "            loss = 0\n",
    "            for i, data in enumerate(loader, 1):\n",
    "                # get the inputs\n",
    "                x = data[0].to(device)\n",
    "                x_hat, mu, logvar = self.forward(x)\n",
    "                loss += self.criterion(x_hat, x, mu, logvar).item()\n",
    "        return loss / i"
   ]
  },
  {
   "cell_type": "markdown",
   "metadata": {},
   "source": [
    "# Train"
   ]
  },
  {
   "cell_type": "code",
   "execution_count": 11,
   "metadata": {},
   "outputs": [
    {
     "name": "stdout",
     "output_type": "stream",
     "text": [
      "Let's use cuda:0\n"
     ]
    }
   ],
   "source": [
    "# create model and move it to device\n",
    "model = VAE()\n",
    "device = torch.device(\"cuda:0\" if torch.cuda.is_available() else \"cpu\")\n",
    "model.to(device)\n",
    "print(\"Let's use {}\".format(device))"
   ]
  },
  {
   "cell_type": "code",
   "execution_count": 12,
   "metadata": {},
   "outputs": [
    {
     "name": "stdout",
     "output_type": "stream",
     "text": [
      "epoch  1: loss: 0.647\tval_loss: 0.299\n",
      "epoch  2: loss: 0.288\tval_loss: 0.279\n",
      "epoch  3: loss: 0.277\tval_loss: 0.274\n",
      "epoch  4: loss: 0.273\tval_loss: 0.270\n",
      "epoch  5: loss: 0.270\tval_loss: 0.268\n"
     ]
    }
   ],
   "source": [
    "optimizer = torch.optim.Adam(model.parameters(), lr=3e-4)\n",
    "for epoch in range(5):\n",
    "    running_loss = 0.0\n",
    "    for i, data in enumerate(trainloader, 0):\n",
    "        x = data[0].to(device)\n",
    "\n",
    "        # zero the parameter gradients\n",
    "        optimizer.zero_grad()\n",
    "\n",
    "        # forward + backward + optimize\n",
    "        x_hat, mu, logvar = model.forward(x)\n",
    "\n",
    "        loss = model.criterion(x_hat, x, mu, logvar)\n",
    "        loss.backward()\n",
    "        optimizer.step()\n",
    "\n",
    "        running_loss += loss.item()\n",
    "    \n",
    "    # print statistics\n",
    "    train_loss = running_loss / i\n",
    "    val_loss = model.evaluate(validloader)\n",
    "    print('epoch %2d: loss: %5.3f\\tval_loss: %5.3f' % (epoch + 1, train_loss,\n",
    "                                                      val_loss))"
   ]
  },
  {
   "cell_type": "code",
   "execution_count": null,
   "metadata": {},
   "outputs": [],
   "source": []
  },
  {
   "cell_type": "code",
   "execution_count": null,
   "metadata": {},
   "outputs": [],
   "source": []
  }
 ],
 "metadata": {
  "kernelspec": {
   "display_name": "Python 3",
   "language": "python",
   "name": "python3"
  },
  "language_info": {
   "codemirror_mode": {
    "name": "ipython",
    "version": 3
   },
   "file_extension": ".py",
   "mimetype": "text/x-python",
   "name": "python",
   "nbconvert_exporter": "python",
   "pygments_lexer": "ipython3",
   "version": "3.6.7"
  }
 },
 "nbformat": 4,
 "nbformat_minor": 2
}
