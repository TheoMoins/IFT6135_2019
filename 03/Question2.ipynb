{
 "cells": [
  {
   "cell_type": "code",
   "execution_count": null,
   "metadata": {},
   "outputs": [],
   "source": [
    "import torch\n",
    "import torch.utils.data\n",
    "import torch.nn as nn\n",
    "import torch.nn.functional as F\n",
    "\n",
    "import numpy as np"
   ]
  },
  {
   "cell_type": "code",
   "execution_count": null,
   "metadata": {},
   "outputs": [],
   "source": [
    "path_train = \"data/binarized_mnist_train.amat\"\n",
    "path_valid = \"data/binarized_mnist_valid.amat\"\n",
    "path_test = \"data/binarized_mnist_test.amat\"\n",
    "\n",
    "\n",
    "def data_loader(path):\n",
    "    with open(path_train) as file:\n",
    "        x=[np.array(list(map(int, img.split()))).reshape(28, 28) for img in file.readlines()]\n",
    "    return torch.from_numpy(np.asarray(x)).float()\n",
    "# WE NEED TO GET THE LABEL\n",
    "\n",
    "train = torch.utils.data.TensorDataset(data_loader(path_train))\n",
    "trainloader = torch.utils.data.DataLoader(\n",
    "    train, batch_size=128, drop_last=True, shuffle=True)\n",
    "\n",
    "test = torch.utils.data.TensorDataset(data_loader(path_train))\n",
    "testloader = torch.utils.data.DataLoader(\n",
    "    train, batch_size=128, drop_last=True, shuffle=False)\n",
    "\n",
    "valid = torch.utils.data.TensorDataset(data_loader(path_train))\n",
    "validloader = torch.utils.data.DataLoader(\n",
    "    train, batch_size=128, drop_last=True, shuffle=False)"
   ]
  },
  {
   "cell_type": "code",
   "execution_count": null,
   "metadata": {},
   "outputs": [],
   "source": [
    "class VAE(nn.Module):\n",
    "    def __init__(self, dim=100, batch_size=128):\n",
    "        super(VAE, self).__init__()\n",
    "\n",
    "        self.dim = dim\n",
    "        self.batch_size = batch_size\n",
    "\n",
    "        #ENCODER LAYERS\n",
    "        self.encoder = nn.Sequential(\n",
    "            nn.Conv2d(in_channels=1, out_channels=32, kernel_size=3), nn.ELU(),\n",
    "            nn.AvgPool2d(kernel_size=2, stride=2),\n",
    "            nn.Conv2d(in_channels=32, out_channels=64,\n",
    "                      kernel_size=3), nn.ELU(),\n",
    "            nn.AvgPool2d(kernel_size=2, stride=2),\n",
    "            nn.Conv2d(in_channels=64, out_channels=256, kernel_size=5),\n",
    "            nn.ELU(), nn.Linear(256, 200))\n",
    "\n",
    "        #DECODER LAYERS\n",
    "        self.decoder = nn.Sequential(\n",
    "            nn.Linear(100, 256), nn.ELU(),\n",
    "            nn.Conv2d(\n",
    "                in_channels=256, out_channels=64, kernel_size=5, padding=4),\n",
    "            nn.ELU(), nn.UpsamplingBilinear2d(scale_factor=2),\n",
    "            nn.Conv2d(\n",
    "                in_channels=64, out_channels=32, kernel_size=3, padding=2),\n",
    "            nn.ELU(), nn.UpsamplingBilinear2d(scale_factor=2),\n",
    "            nn.Conv2d(\n",
    "                in_channels=32, out_channels=16, kernel_size=3, padding=2),\n",
    "            nn.ELU(),\n",
    "            nn.Conv2d(\n",
    "                in_channels=16, out_channels=1, kernel_size=3, padding=2))\n",
    "\n",
    "    def encode(self, x):\n",
    "        q_params = self.encoder(x)\n",
    "        mu = q_params[:, :self.dim]\n",
    "        std = torch.exp(0.5 * q_params[:, self.dim:])\n",
    "        return mu, std\n",
    "\n",
    "    def decode(self, z):\n",
    "        return self.decoder(z)\n",
    "\n",
    "    def sample(self, mu, std):\n",
    "        eps = torch.randn(self.batch_size, self.dim)\n",
    "        return mu + eps * std\n",
    "\n",
    "    def forward(self, x):\n",
    "        mu, std = self.encode(x)\n",
    "        z = self.sample(mu, std)\n",
    "        x_hat = self.decode(z)\n",
    "        return x_hat, mu, std\n",
    "\n",
    "    def criterion(x_hat, x, mu, std):\n",
    "        BCE = F.binary_cross_entropy(x_hat, x, reduction='sum')\n",
    "        KL = 0.5 * torch.sum(-1 - 2 * log(std) + mu.pow(2) + std.pow(2))\n",
    "        return BCE + KLD\n",
    "\n",
    "    def mytrain(self, trainloader, validloader, epochs, is_train=False):\n",
    "        if is_train:\n",
    "            model.train()\n",
    "        else:\n",
    "            model.eval()\n",
    "        \n",
    "        for epoch in range(epochs):\n",
    "            for i, data in enumerate(trainloader, 0):\n",
    "                # get the inputs\n",
    "                inputs, labels = data\n",
    "\n",
    "                # zero the parameter gradients\n",
    "                optimizer.zero_grad()\n",
    "\n",
    "                # forward + backward + optimize\n",
    "                x_hat, mu, std = self.forward(inputs)\n",
    "                loss = self.criterion(x_hat, x, mu, std)\n",
    "                loss.backward()\n",
    "                optimizer.step()\n",
    "\n",
    "                # print statistics\n",
    "                running_loss += loss.item()\n",
    "                if i % 2000 == 1999:    # print every 2000 mini-batches\n",
    "                    print('[%d, %5d] loss: %.3f' %\n",
    "                          (epoch + 1, i + 1, running_loss / 2000))\n",
    "                    running_loss = 0.0"
   ]
  },
  {
   "cell_type": "code",
   "execution_count": null,
   "metadata": {},
   "outputs": [],
   "source": [
    "model = VAE()\n",
    "device = torch.device(\"cuda:1\" if torch.cuda.is_available() else \"cpu\")\n",
    "model.to(device)\n",
    "print(\"Let\\'s use {}\".format(device))"
   ]
  },
  {
   "cell_type": "code",
   "execution_count": null,
   "metadata": {},
   "outputs": [],
   "source": [
    "optimizer = torch.optim.Adam(model.parameters(), lr=3e-4)"
   ]
  },
  {
   "cell_type": "code",
   "execution_count": null,
   "metadata": {},
   "outputs": [],
   "source": [
    "model.mytrain(trainloader, validloader, 5, is_train=True)"
   ]
  },
  {
   "cell_type": "code",
   "execution_count": null,
   "metadata": {},
   "outputs": [],
   "source": []
  }
 ],
 "metadata": {
  "kernelspec": {
   "display_name": "Python 3",
   "language": "python",
   "name": "python3"
  },
  "language_info": {
   "codemirror_mode": {
    "name": "ipython",
    "version": 3
   },
   "file_extension": ".py",
   "mimetype": "text/x-python",
   "name": "python",
   "nbconvert_exporter": "python",
   "pygments_lexer": "ipython3",
   "version": "3.6.7"
  }
 },
 "nbformat": 4,
 "nbformat_minor": 2
}
