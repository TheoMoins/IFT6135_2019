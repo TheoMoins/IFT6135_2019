{
 "cells": [
  {
   "cell_type": "code",
   "execution_count": 1,
   "metadata": {},
   "outputs": [],
   "source": [
    "import torch\n",
    "import torch.utils.data\n",
    "import torch.nn as nn\n",
    "import torch.nn.functional as F\n",
    "\n",
    "import numpy as np"
   ]
  },
  {
   "cell_type": "code",
   "execution_count": 2,
   "metadata": {},
   "outputs": [],
   "source": [
    "path_train = \"data/binarized_mnist_train.amat\"\n",
    "path_valid = \"data/binarized_mnist_valid.amat\"\n",
    "path_test = \"data/binarized_mnist_test.amat\"\n",
    "\n",
    "\n",
    "def data_loader(path):\n",
    "    x = []\n",
    "    with open(path_train) as file:\n",
    "        #mat = list(map(int,img.readline().split()))\n",
    "        for img in file.readlines():\n",
    "            x.append(np.array(list(map(int, img.split()))).reshape(28, 28))\n",
    "\n",
    "    return torch.from_numpy(np.asarray(x)).float()\n",
    "\n",
    "\n",
    "train = torch.utils.data.TensorDataset(data_loader(path_train))\n",
    "trainloader = torch.utils.data.DataLoader(train, batch_size=128, shuffle=True)\n",
    "\n",
    "test = torch.utils.data.TensorDataset(data_loader(path_train))\n",
    "testloader = torch.utils.data.DataLoader(train, batch_size=128, shuffle=False)\n",
    "\n",
    "valid = torch.utils.data.TensorDataset(data_loader(path_train))\n",
    "validloader = torch.utils.data.DataLoader(train, batch_size=128, shuffle=False)"
   ]
  },
  {
   "cell_type": "code",
   "execution_count": 10,
   "metadata": {},
   "outputs": [],
   "source": [
    "class VAE(nn.Module):\n",
    "    def __init__(self, dim=100, batch_size=128):\n",
    "        super(VAE, self).__init__()\n",
    "\n",
    "        self.dim = dim\n",
    "        self.batch_size = batch_size\n",
    "\n",
    "        #ENCODER LAYERS\n",
    "        encoder = nn.Sequential(\n",
    "            nn.Conv2d(in_channels=1, out_channels=32, kernel_size=3), nn.ELU(),\n",
    "            nn.AvgPool2d(kernel_size=2, stride=2),\n",
    "            nn.Conv2d(in_channels=32, out_channels=64,\n",
    "                      kernel_size=3), nn.ELU(),\n",
    "            nn.AvgPool2d(kernel_size=2, stride=2),\n",
    "            nn.Conv2d(in_channels=64, out_channels=256, kernel_size=5),\n",
    "            nn.ELU(), nn.Linear(256, 200))\n",
    "\n",
    "        #DECODER LAYERS\n",
    "        decoder = nn.Sequential(\n",
    "            nn.Linear(100, 256), nn.ELU(),\n",
    "            nn.Conv2d(\n",
    "                in_channels=256, out_channels=64, kernel_size=5, padding=4),\n",
    "            nn.ELU(), nn.UpsamplingBilinear2d(scale_factor=2),\n",
    "            nn.Conv2d(\n",
    "                in_channels=64, out_channels=32, kernel_size=3, padding=2),\n",
    "            nn.ELU(), nn.UpsamplingBilinear2d(scale_factor=2),\n",
    "            nn.Conv2d(\n",
    "                in_channels=32, out_channels=16, kernel_size=3, padding=2),\n",
    "            nn.ELU(),\n",
    "            nn.Conv2d(\n",
    "                in_channels=16, out_channels=1, kernel_size=3, padding=2))\n",
    "\n",
    "    def encode(self, x):\n",
    "        q_params = encoder(x)\n",
    "        mu = q_params[:, :self.dim]\n",
    "        std = torch.exp(0.5 * q_params[:, self.dim:])\n",
    "        return mu, std\n",
    "\n",
    "    def decode(self, z):\n",
    "        return decoder(z)\n",
    "\n",
    "    def sample(self, mu, std):\n",
    "        eps = torch.randn(self.batch_size, self.dim)\n",
    "        return mu + eps * std\n",
    "\n",
    "    def forward(self, x):\n",
    "        mu, std = self.encode(x)\n",
    "        x_hat = decode(mu, std)\n",
    "        return x_hat, mu, std\n",
    "\n",
    "    def loss(x_hat, x, mu, std):\n",
    "        BCE = F.binary_cross_entropy(x_hat, x, reduction='sum')\n",
    "        KL = 0.5 * torch.sum(-1 - 2 * log(std) + mu.pow(2) + std.pow(2))\n",
    "        return BCE + KLD\n",
    "\n",
    "    def train(self, trainloader, validloader, epoch):\n",
    "        pass"
   ]
  },
  {
   "cell_type": "code",
   "execution_count": 11,
   "metadata": {},
   "outputs": [
    {
     "name": "stdout",
     "output_type": "stream",
     "text": [
      "Let's use cuda:0\n"
     ]
    }
   ],
   "source": [
    "model = VAE()\n",
    "device = torch.device(\"cuda:0\" if torch.cuda.is_available() else \"cpu\")\n",
    "model.to(device)\n",
    "print(\"Let\\'s use {}\".format(device))"
   ]
  },
  {
   "cell_type": "code",
   "execution_count": null,
   "metadata": {},
   "outputs": [],
   "source": [
    "optimizer = optim.Adam(model.parameters(), lr=3e-4)"
   ]
  }
 ],
 "metadata": {
  "kernelspec": {
   "display_name": "Python 3",
   "language": "python",
   "name": "python3"
  },
  "language_info": {
   "codemirror_mode": {
    "name": "ipython",
    "version": 3
   },
   "file_extension": ".py",
   "mimetype": "text/x-python",
   "name": "python",
   "nbconvert_exporter": "python",
   "pygments_lexer": "ipython3",
   "version": "3.6.7"
  }
 },
 "nbformat": 4,
 "nbformat_minor": 2
}
