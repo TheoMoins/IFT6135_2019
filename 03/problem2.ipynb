{
 "cells": [
  {
   "cell_type": "code",
   "execution_count": 1,
   "metadata": {},
   "outputs": [],
   "source": [
    "import torch\n",
    "import torch.utils.data\n",
    "import torch.nn as nn\n",
    "import torch.nn.functional as F\n",
    "import torch.distributions as d\n",
    "\n",
    "import math\n",
    "import random\n",
    "import numpy as np"
   ]
  },
  {
   "cell_type": "code",
   "execution_count": 2,
   "metadata": {},
   "outputs": [],
   "source": [
    "BATCH_SIZE = 128"
   ]
  },
  {
   "cell_type": "markdown",
   "metadata": {},
   "source": [
    "# Load data"
   ]
  },
  {
   "cell_type": "code",
   "execution_count": 3,
   "metadata": {},
   "outputs": [],
   "source": [
    "path_train = \"data/binarized_mnist_train.amat\"\n",
    "path_valid = \"data/binarized_mnist_valid.amat\"\n",
    "path_test = \"data/binarized_mnist_test.amat\""
   ]
  },
  {
   "cell_type": "code",
   "execution_count": 4,
   "metadata": {},
   "outputs": [],
   "source": [
    "def data_loader(path):\n",
    "    with open(path) as file:\n",
    "        x = [\n",
    "            np.array(list(map(int, img.split()))).reshape(1, 28, 28)\n",
    "            for img in file.readlines()\n",
    "        ]\n",
    "    return torch.from_numpy(np.asarray(x)).float()"
   ]
  },
  {
   "cell_type": "code",
   "execution_count": 5,
   "metadata": {},
   "outputs": [],
   "source": [
    "train = torch.utils.data.TensorDataset(data_loader(path_train))\n",
    "trainloader = torch.utils.data.DataLoader(\n",
    "    train, batch_size=BATCH_SIZE, shuffle=True)"
   ]
  },
  {
   "cell_type": "code",
   "execution_count": 6,
   "metadata": {},
   "outputs": [],
   "source": [
    "valid = torch.utils.data.TensorDataset(data_loader(path_valid))\n",
    "validloader = torch.utils.data.DataLoader(\n",
    "    valid, batch_size=BATCH_SIZE, shuffle=False)"
   ]
  },
  {
   "cell_type": "code",
   "execution_count": 7,
   "metadata": {},
   "outputs": [],
   "source": [
    "test = torch.utils.data.TensorDataset(data_loader(path_test))\n",
    "testloader = torch.utils.data.DataLoader(\n",
    "    test, batch_size=BATCH_SIZE, shuffle=False)"
   ]
  },
  {
   "cell_type": "markdown",
   "metadata": {},
   "source": [
    "# Train a VAE (10pts)"
   ]
  },
  {
   "cell_type": "code",
   "execution_count": 8,
   "metadata": {},
   "outputs": [],
   "source": [
    "class VAE(nn.Module):\n",
    "    def __init__(self, dim=100):\n",
    "        super(VAE, self).__init__()\n",
    "\n",
    "        self.dim = dim\n",
    "\n",
    "        #ENCODER LAYERS\n",
    "        self.encoder = nn.Sequential(\n",
    "            nn.Conv2d(in_channels=1, out_channels=32, kernel_size=3), nn.ELU(),\n",
    "            nn.AvgPool2d(kernel_size=2, stride=2),\n",
    "            nn.Conv2d(in_channels=32, out_channels=64,\n",
    "                      kernel_size=3), nn.ELU(),\n",
    "            nn.AvgPool2d(kernel_size=2, stride=2),\n",
    "            nn.Conv2d(in_channels=64, out_channels=256, kernel_size=5),\n",
    "            nn.ELU())\n",
    "        self.hidden_1 = nn.Linear(256, 200)\n",
    "\n",
    "        #DECODER LAYERS\n",
    "        self.hidden_2 = nn.Linear(100, 256)\n",
    "        self.decoder = nn.Sequential(\n",
    "            nn.ELU(),\n",
    "            nn.Conv2d(\n",
    "                in_channels=256, out_channels=64, kernel_size=5, padding=4),\n",
    "            nn.ELU(), nn.UpsamplingBilinear2d(scale_factor=2),\n",
    "            nn.Conv2d(\n",
    "                in_channels=64, out_channels=32, kernel_size=3, padding=2),\n",
    "            nn.ELU(), nn.UpsamplingBilinear2d(scale_factor=2),\n",
    "            nn.Conv2d(\n",
    "                in_channels=32, out_channels=16, kernel_size=3, padding=2),\n",
    "            nn.ELU(),\n",
    "            nn.Conv2d(\n",
    "                in_channels=16, out_channels=1, kernel_size=3, padding=2),\n",
    "            nn.Sigmoid())\n",
    "\n",
    "    def encode(self, x):\n",
    "        q_params = self.hidden_1(self.encoder(x).view(x.shape[0], 256))\n",
    "        mu = q_params[:, :self.dim]\n",
    "        logvar = q_params[:, self.dim:]\n",
    "        return mu, logvar\n",
    "\n",
    "    def decode(self, z, x):\n",
    "        # we need x to abstract from the batch size\n",
    "        return self.decoder(self.hidden_2(z).view(x.shape[0], 256, 1, 1))\n",
    "\n",
    "    def sample(self, mu, logvar, x):\n",
    "        # we need x to abstract from the batch size\n",
    "        eps = torch.randn(x.shape[0], self.dim).to(device)\n",
    "        return mu + eps * (0.5 * logvar).exp()\n",
    "\n",
    "    def forward(self, x):\n",
    "        mu, logvar = self.encode(x)\n",
    "        z = self.sample(mu, logvar, x)\n",
    "        x_hat = self.decode(z, x)\n",
    "        return x_hat, mu, logvar\n",
    "\n",
    "    def criterion(self, x_hat, x, mu, logvar):\n",
    "        # BCE = -log(p) because gradient descent and not ascent\n",
    "        BCE = F.binary_cross_entropy(x_hat, x, reduction='sum') \n",
    "        KLD = 0.5 * torch.sum(-1 - logvar + mu.pow(2) + logvar.exp())\n",
    "        # criterion returns -ELBO !\n",
    "        return (BCE + KLD) / x.shape[0]\n",
    "\n",
    "    def evaluate(self, loader):\n",
    "        with torch.no_grad():\n",
    "            loss = 0\n",
    "            for i, data in enumerate(loader, 1):\n",
    "                # get the inputs\n",
    "                x = data[0].to(device)\n",
    "                x_hat, mu, logvar = self.forward(x)\n",
    "                loss += self.criterion(x_hat, x, mu, logvar).item()\n",
    "        return loss / len(loader)"
   ]
  },
  {
   "cell_type": "code",
   "execution_count": 9,
   "metadata": {},
   "outputs": [
    {
     "name": "stdout",
     "output_type": "stream",
     "text": [
      "Let's use cuda:0\n"
     ]
    }
   ],
   "source": [
    "# create model and move it to device\n",
    "model = VAE()\n",
    "device = torch.device(\"cuda:0\" if torch.cuda.is_available() else \"cpu\")\n",
    "model.to(device)\n",
    "print(\"Let's use {}\".format(device))"
   ]
  },
  {
   "cell_type": "code",
   "execution_count": 10,
   "metadata": {},
   "outputs": [
    {
     "name": "stderr",
     "output_type": "stream",
     "text": [
      "/home/quentin/venv/lib/python3.6/site-packages/torch/nn/modules/upsampling.py:129: UserWarning: nn.UpsamplingBilinear2d is deprecated. Use nn.functional.interpolate instead.\n",
      "  warnings.warn(\"nn.{} is deprecated. Use nn.functional.interpolate instead.\".format(self.name))\n"
     ]
    },
    {
     "name": "stdout",
     "output_type": "stream",
     "text": [
      "epoch  1: loss:  209.818    val_loss:  155.818    val_ELBO: -155.818\n",
      "epoch  2: loss:  141.300    val_loss:  130.269    val_ELBO: -130.269\n",
      "epoch  3: loss:  123.627    val_loss:  117.775    val_ELBO: -117.775\n",
      "epoch  4: loss:  114.351    val_loss:  111.385    val_ELBO: -111.385\n",
      "epoch  5: loss:  109.412    val_loss:  107.799    val_ELBO: -107.799\n",
      "epoch  6: loss:  106.540    val_loss:  105.582    val_ELBO: -105.582\n",
      "epoch  7: loss:  104.614    val_loss:  103.977    val_ELBO: -103.977\n",
      "epoch  8: loss:  103.146    val_loss:  102.688    val_ELBO: -102.688\n",
      "epoch  9: loss:  101.892    val_loss:  101.777    val_ELBO: -101.777\n",
      "epoch 10: loss:  100.976    val_loss:  100.317    val_ELBO: -100.317\n",
      "epoch 11: loss:  100.092    val_loss:   99.795    val_ELBO:  -99.795\n",
      "epoch 12: loss:   99.346    val_loss:   99.303    val_ELBO:  -99.303\n",
      "epoch 13: loss:   98.774    val_loss:   98.664    val_ELBO:  -98.664\n",
      "epoch 14: loss:   98.195    val_loss:   98.060    val_ELBO:  -98.060\n",
      "epoch 15: loss:   97.560    val_loss:   97.701    val_ELBO:  -97.701\n",
      "epoch 16: loss:   97.240    val_loss:   97.152    val_ELBO:  -97.152\n",
      "epoch 17: loss:   96.770    val_loss:   96.755    val_ELBO:  -96.755\n",
      "epoch 18: loss:   96.350    val_loss:   96.341    val_ELBO:  -96.341\n",
      "epoch 19: loss:   96.088    val_loss:   96.208    val_ELBO:  -96.208\n",
      "epoch 20: loss:   95.730    val_loss:   96.067    val_ELBO:  -96.067\n"
     ]
    }
   ],
   "source": [
    "optimizer = torch.optim.Adam(model.parameters(), lr=3e-4)\n",
    "for epoch in range(20):\n",
    "    running_loss = 0.0\n",
    "    for i, data in enumerate(trainloader, 0):\n",
    "        x = data[0].to(device)\n",
    "\n",
    "        # zero the parameter gradients\n",
    "        optimizer.zero_grad()\n",
    "\n",
    "        # forward + backward + optimize\n",
    "        x_hat, mu, logvar = model.forward(x)\n",
    "\n",
    "        loss = model.criterion(x_hat, x, mu, logvar)\n",
    "        loss.backward()\n",
    "        optimizer.step()\n",
    "\n",
    "        running_loss += loss.item()\n",
    "\n",
    "    # print statistics\n",
    "    train_loss = running_loss / i\n",
    "    val_loss = model.evaluate(validloader)\n",
    "    print('epoch %2d: loss: %8.3f    val_loss: %8.3f    val_ELBO: %8.3f' %\n",
    "          (epoch + 1, train_loss, val_loss, -val_loss))"
   ]
  },
  {
   "cell_type": "markdown",
   "metadata": {},
   "source": [
    "# Evaluating log-likelihood with Variational Autoencoders (20pts)"
   ]
  },
  {
   "cell_type": "code",
   "execution_count": 11,
   "metadata": {},
   "outputs": [],
   "source": [
    "def is_estimation(model, dataset, M=10, K=200, D=784, L=100):\n",
    "    with torch.no_grad():\n",
    "        data = torch.utils.data.DataLoader(\n",
    "            dataset, batch_size=M, shuffle=False)\n",
    "        # send input to device\n",
    "        xi = list(data)[0][0].view(M, 1, 28, 28).to(device)\n",
    "        # encode the input and get the parameters of the normal distribution\n",
    "        mu, logvar = model.encode(xi)\n",
    "        # get variance\n",
    "        var = (0.5 * logvar).exp()[0]\n",
    "        # create covariance matrix (diagonal)\n",
    "        cov_mat = torch.diag(var).to(device)\n",
    "        # Normal(mu, diag(var)) of dimension L with\n",
    "        normal = d.MultivariateNormal(mu[0], cov_mat)\n",
    "        # Normal(0, I) of dimension L\n",
    "        snd = d.MultivariateNormal(\n",
    "            torch.zeros(L).to(device),\n",
    "            torch.eye(L).to(device))\n",
    "        # Initialize prob_xi\n",
    "        sum_prob = []\n",
    "        for _ in range(K):\n",
    "            # draw a sample from the model distribution q(z_ik|x_i)\n",
    "            zik = model.sample(mu, logvar, xi)\n",
    "            # compute p(z_ik)\n",
    "            log_prob_zik = normal.log_prob(zik)\n",
    "            # compute q(z_ik|x_i)\n",
    "            log_prob_zik_xi = snd.log_prob(zik)\n",
    "            # compute p(x_i|z_ik)\n",
    "            xi_hat = model.decode(zik, xi)\n",
    "            log_prob_xi_zik = -F.binary_cross_entropy(\n",
    "                xi_hat, xi, reduction=\"none\").view(M, -1)\n",
    "            log_prob_xi_zik = torch.sum(log_prob_xi_zik, 1)\n",
    "            sum_prob.append(log_prob_xi_zik + log_prob_zik - log_prob_zik_xi -\n",
    "                            math.log(K))\n",
    "        log_prob_xi = torch.logsumexp(torch.stack(sum_prob).to(device),\n",
    "                                      0).cpu().numpy()\n",
    "        print(\"Estimate: {:.3f}\".format(np.mean(log_prob_xi)))\n",
    "    return log_prob_xi"
   ]
  },
  {
   "cell_type": "markdown",
   "metadata": {},
   "source": [
    "### Estimates comparison"
   ]
  },
  {
   "cell_type": "code",
   "execution_count": 12,
   "metadata": {},
   "outputs": [
    {
     "name": "stdout",
     "output_type": "stream",
     "text": [
      "Estimate: -112.471\n",
      "Estimate: -119.651\n"
     ]
    }
   ],
   "source": [
    "val_elbo = -model.evaluate(validloader)\n",
    "val_ll = np.mean(is_estimation(model, valid, M=len(valid)))\n",
    "\n",
    "test_elbo = -model.evaluate(testloader)\n",
    "test_ll = np.mean(is_estimation(model, test, M=len(test)))"
   ]
  },
  {
   "cell_type": "code",
   "execution_count": 13,
   "metadata": {},
   "outputs": [
    {
     "name": "stdout",
     "output_type": "stream",
     "text": [
      "Validation set:\n",
      "\tELBO: -96.021\n",
      "\tIS:   -112.471\n",
      "Test set:\n",
      "\tELBO: -95.240\n",
      "\tIS:   -119.651\n"
     ]
    }
   ],
   "source": [
    "print(\"Validation set:\")\n",
    "print(\"\\tELBO: {:.3f}\".format(val_elbo))\n",
    "print(\"\\tIS:   {:.3f}\".format(val_ll))\n",
    "\n",
    "print(\"Test set:\")\n",
    "print(\"\\tELBO: {:.3f}\".format(test_elbo))\n",
    "print(\"\\tIS:   {:.3f}\".format(test_ll))"
   ]
  }
 ],
 "metadata": {
  "kernelspec": {
   "display_name": "Python 3",
   "language": "python",
   "name": "python3"
  },
  "language_info": {
   "codemirror_mode": {
    "name": "ipython",
    "version": 3
   },
   "file_extension": ".py",
   "mimetype": "text/x-python",
   "name": "python",
   "nbconvert_exporter": "python",
   "pygments_lexer": "ipython3",
   "version": "3.6.7"
  }
 },
 "nbformat": 4,
 "nbformat_minor": 2
}
