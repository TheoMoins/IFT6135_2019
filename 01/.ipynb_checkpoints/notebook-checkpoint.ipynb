{
 "cells": [
  {
   "cell_type": "markdown",
   "metadata": {},
   "source": [
    "# Problem 1"
   ]
  },
  {
   "cell_type": "code",
   "execution_count": 61,
   "metadata": {},
   "outputs": [],
   "source": [
    "import numpy as np\n",
    "\n",
    "data = np.load('mnist.npz')\n",
    "x_train, y_train = data['x_train'], data['y_train']\n",
    "x_test, y_test = data['x_test'], data['y_test']"
   ]
  },
  {
   "cell_type": "code",
   "execution_count": 78,
   "metadata": {},
   "outputs": [],
   "source": [
    "import math\n",
    "\n",
    "class Classifier(object):\n",
    "    def __init__(self,hidden_dims=(500,100),n_hidden=2,mode='train',datapath=None,model_path=None):\n",
    "        self.weights, self.bias = [], []\n",
    "        for i in range(n_hidden + 1):\n",
    "            if i == 0:\n",
    "                self.weights.append(np.empty((784, hidden_dims[i])))\n",
    "                self.bias.append(np.zeros((hidden_dims[i])))\n",
    "            elif i == n_hidden - 1:\n",
    "                self.weights.append(np.empty((hidden_dims[i], 10)))\n",
    "                self.bias.append(np.zeros((10)))\n",
    "            else:\n",
    "                self.weights.append(np.empty((hidden_dims[i-1], hidden_dims[i])))\n",
    "                self.bias.append(np.zeros((hidden_dims[i])))\n",
    "        \n",
    "    def initialize_weights(self,method='glorot'):\n",
    "        for i, w in enumerate(self.weights):\n",
    "            if method is 'glorot':\n",
    "                d = math.sqrt(6/(w.shape[0]+w.shape[1]))\n",
    "                self.weights[i]=np.random.uniform(low=-d, high=d, size=w.shape)\n",
    "            if method is 'normal':\n",
    "                self.weights[i]=np.random.normal(loc=0, scale=1, size=w.shape)\n",
    "            if method is 'zero':\n",
    "                self.weights[i]=np.zeros(shape=w.shape)\n",
    "    \n",
    "    def activation(self,input):\n",
    "        return np.maximum(0, input)\n",
    "    \n",
    "    def forward(self,input):\n",
    "        x = input\n",
    "        for w, b in zip(self.weights, self.bias):\n",
    "            x = self.activation(x @ w + b)\n",
    "        return x"
   ]
  },
  {
   "cell_type": "code",
   "execution_count": 79,
   "metadata": {},
   "outputs": [],
   "source": [
    "clf = Classifier()"
   ]
  },
  {
   "cell_type": "code",
   "execution_count": 80,
   "metadata": {},
   "outputs": [
    {
     "name": "stdout",
     "output_type": "stream",
     "text": [
      "(784, 500)\n",
      "(500, 100)\n"
     ]
    }
   ],
   "source": [
    "for w in clf.weights:\n",
    "    print(w.shape)"
   ]
  },
  {
   "cell_type": "code",
   "execution_count": 76,
   "metadata": {},
   "outputs": [
    {
     "ename": "ValueError",
     "evalue": "matmul: Input operand 1 has a mismatch in its core dimension 0, with gufunc signature (n?,k),(k,m?)->(n?,m?) (size 100 is different from 500)",
     "output_type": "error",
     "traceback": [
      "\u001b[0;31m---------------------------------------------------------------------------\u001b[0m",
      "\u001b[0;31mValueError\u001b[0m                                Traceback (most recent call last)",
      "\u001b[0;32m<ipython-input-76-1dff75af5145>\u001b[0m in \u001b[0;36m<module>\u001b[0;34m\u001b[0m\n\u001b[0;32m----> 1\u001b[0;31m \u001b[0mclf\u001b[0m\u001b[0;34m.\u001b[0m\u001b[0mforward\u001b[0m\u001b[0;34m(\u001b[0m\u001b[0mx_train\u001b[0m\u001b[0;34m[\u001b[0m\u001b[0;36m0\u001b[0m\u001b[0;34m]\u001b[0m\u001b[0;34m.\u001b[0m\u001b[0mreshape\u001b[0m\u001b[0;34m(\u001b[0m\u001b[0;34m-\u001b[0m\u001b[0;36m1\u001b[0m\u001b[0;34m)\u001b[0m\u001b[0;34m)\u001b[0m\u001b[0;34m\u001b[0m\u001b[0;34m\u001b[0m\u001b[0m\n\u001b[0m",
      "\u001b[0;32m<ipython-input-74-f12cb78040cd>\u001b[0m in \u001b[0;36mforward\u001b[0;34m(self, input)\u001b[0m\n\u001b[1;32m     31\u001b[0m         \u001b[0mx\u001b[0m \u001b[0;34m=\u001b[0m \u001b[0minput\u001b[0m\u001b[0;34m\u001b[0m\u001b[0;34m\u001b[0m\u001b[0m\n\u001b[1;32m     32\u001b[0m         \u001b[0;32mfor\u001b[0m \u001b[0mw\u001b[0m\u001b[0;34m,\u001b[0m \u001b[0mb\u001b[0m \u001b[0;32min\u001b[0m \u001b[0mzip\u001b[0m\u001b[0;34m(\u001b[0m\u001b[0mself\u001b[0m\u001b[0;34m.\u001b[0m\u001b[0mweights\u001b[0m\u001b[0;34m,\u001b[0m \u001b[0mself\u001b[0m\u001b[0;34m.\u001b[0m\u001b[0mbias\u001b[0m\u001b[0;34m)\u001b[0m\u001b[0;34m:\u001b[0m\u001b[0;34m\u001b[0m\u001b[0;34m\u001b[0m\u001b[0m\n\u001b[0;32m---> 33\u001b[0;31m             \u001b[0mx\u001b[0m \u001b[0;34m=\u001b[0m \u001b[0mself\u001b[0m\u001b[0;34m.\u001b[0m\u001b[0mactivation\u001b[0m\u001b[0;34m(\u001b[0m\u001b[0mx\u001b[0m \u001b[0;34m@\u001b[0m \u001b[0mw\u001b[0m \u001b[0;34m+\u001b[0m \u001b[0mb\u001b[0m\u001b[0;34m)\u001b[0m\u001b[0;34m\u001b[0m\u001b[0;34m\u001b[0m\u001b[0m\n\u001b[0m\u001b[1;32m     34\u001b[0m         \u001b[0;32mreturn\u001b[0m \u001b[0mx\u001b[0m\u001b[0;34m\u001b[0m\u001b[0;34m\u001b[0m\u001b[0m\n",
      "\u001b[0;31mValueError\u001b[0m: matmul: Input operand 1 has a mismatch in its core dimension 0, with gufunc signature (n?,k),(k,m?)->(n?,m?) (size 100 is different from 500)"
     ]
    }
   ],
   "source": [
    "clf.forward(x_train[0].reshape(-1))"
   ]
  },
  {
   "cell_type": "code",
   "execution_count": 39,
   "metadata": {},
   "outputs": [],
   "source": [
    "clf.initialize_weights('glorot')"
   ]
  },
  {
   "cell_type": "code",
   "execution_count": 40,
   "metadata": {},
   "outputs": [
    {
     "data": {
      "text/plain": [
       "array([[ 0.06295411, -0.04137354, -0.0473668 , ..., -0.04229237,\n",
       "        -0.0460224 ,  0.0510987 ],\n",
       "       [-0.06795286,  0.00420197,  0.06312573, ..., -0.04365951,\n",
       "        -0.04696937, -0.01973883],\n",
       "       [-0.02191697, -0.04754125,  0.05224904, ...,  0.03367218,\n",
       "        -0.04420796,  0.05211087],\n",
       "       ...,\n",
       "       [ 0.04613785, -0.06498595, -0.06547497, ..., -0.01963457,\n",
       "        -0.00324355,  0.05309836],\n",
       "       [ 0.01097675, -0.05570318,  0.01222811, ...,  0.03396307,\n",
       "        -0.04334091, -0.00656984],\n",
       "       [ 0.0038165 , -0.03368378, -0.06291464, ...,  0.0407741 ,\n",
       "         0.03631716, -0.0022955 ]])"
      ]
     },
     "execution_count": 40,
     "metadata": {},
     "output_type": "execute_result"
    }
   ],
   "source": [
    "clf.weights[0]"
   ]
  },
  {
   "cell_type": "code",
   "execution_count": null,
   "metadata": {},
   "outputs": [],
   "source": []
  }
 ],
 "metadata": {
  "kernelspec": {
   "display_name": "Python 3",
   "language": "python",
   "name": "python3"
  },
  "language_info": {
   "codemirror_mode": {
    "name": "ipython",
    "version": 3
   },
   "file_extension": ".py",
   "mimetype": "text/x-python",
   "name": "python",
   "nbconvert_exporter": "python",
   "pygments_lexer": "ipython3",
   "version": "3.6.7"
  }
 },
 "nbformat": 4,
 "nbformat_minor": 2
}
