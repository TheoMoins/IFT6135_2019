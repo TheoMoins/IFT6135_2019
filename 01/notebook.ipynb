{
 "cells": [
  {
   "cell_type": "markdown",
   "metadata": {},
   "source": [
    "# Problem 1"
   ]
  },
  {
   "cell_type": "code",
   "execution_count": 21,
   "metadata": {},
   "outputs": [],
   "source": [
    "import numpy as np\n",
    "\n",
    "data = np.load('mnist.npz')\n",
    "x_train, y_train = data['x_train'], data['y_train']\n",
    "x_test, y_test = data['x_test'], data['y_test']"
   ]
  },
  {
   "cell_type": "code",
   "execution_count": 22,
   "metadata": {},
   "outputs": [],
   "source": [
    "# reshape to vectors, change dtype from int8 to float32 and normalize [0,255] -> [0,1]\n",
    "x_train = x_train.reshape(x_train.shape[0], -1).astype(np.float32) / 255\n",
    "x_test = x_test.reshape(x_test.shape[0], -1).astype(np.float32) / 255"
   ]
  },
  {
   "cell_type": "code",
   "execution_count": 23,
   "metadata": {},
   "outputs": [],
   "source": [
    "import math\n",
    "\n",
    "class Classifier(object):\n",
    "    def __init__(self,hidden_dims=(500,100),n_hidden=2,mode='train',datapath=None,model_path=None):\n",
    "        #weights and bias structure\n",
    "        self.weights, self.bias = [], []\n",
    "        #layer 1\n",
    "        self.weights.append(np.empty((784, hidden_dims[0])))\n",
    "        self.bias.append(np.zeros((hidden_dims[0])))\n",
    "        #hidden layer\n",
    "        for i in range(n_hidden - 1):\n",
    "            self.weights.append(np.empty((hidden_dims[i], hidden_dims[i+1])))\n",
    "            self.bias.append(np.zeros((hidden_dims[i+1])))\n",
    "        #output layer\n",
    "        self.weights.append(np.empty((hidden_dims[-1], 10)))\n",
    "        self.bias.append(np.zeros((10)))\n",
    "    \n",
    "    def initialize_weights(self,method='glorot'):\n",
    "        for i, w in enumerate(self.weights):\n",
    "            if method is 'glorot':\n",
    "                d = math.sqrt(6/(w.shape[0]+w.shape[1]))\n",
    "                self.weights[i]=np.random.uniform(low=-d, high=d, size=w.shape)\n",
    "            if method is 'normal':\n",
    "                self.weights[i]=np.random.normal(loc=0, scale=1, size=w.shape)\n",
    "            if method is 'zero':\n",
    "                self.weights[i]=np.zeros(shape=w.shape)\n",
    "    \n",
    "    def forward(self,input):\n",
    "        x = input\n",
    "        for w, b in zip(self.weights, self.bias):\n",
    "            x = self.activation(x @ w + b)\n",
    "        return self.softmax(x)\n",
    "    \n",
    "    def activation(self,input):\n",
    "        return np.maximum(0, input)\n",
    "    \n",
    "    def loss(self, prediction, label):\n",
    "        return -math.log(prediction[label])\n",
    "\n",
    "    def softmax(self, input):\n",
    "        return np.exp(input)/np.sum(np.exp(input))\n",
    "    \n",
    "    def backward(self,cache,labels):\n",
    "        pass\n",
    "    \n",
    "    def update(self,grads,..):\n",
    "        pass\n",
    "    \n",
    "    def train(self):\n",
    "        pass\n",
    "    \n",
    "    def test(self):\n",
    "        pass"
   ]
  },
  {
   "cell_type": "code",
   "execution_count": 30,
   "metadata": {},
   "outputs": [],
   "source": [
    "clf = Classifier()\n",
    "clf.initialize_weights('glorot')"
   ]
  },
  {
   "cell_type": "code",
   "execution_count": 31,
   "metadata": {},
   "outputs": [],
   "source": [
    "prediction = clf.forward(x_train[0])"
   ]
  },
  {
   "cell_type": "code",
   "execution_count": 33,
   "metadata": {},
   "outputs": [
    {
     "name": "stdout",
     "output_type": "stream",
     "text": [
      "0.09704411667390887\n"
     ]
    },
    {
     "data": {
      "text/plain": [
       "2.332589592802735"
      ]
     },
     "execution_count": 33,
     "metadata": {},
     "output_type": "execute_result"
    }
   ],
   "source": [
    "clf.loss(prediction, y_train[0])"
   ]
  },
  {
   "cell_type": "code",
   "execution_count": null,
   "metadata": {},
   "outputs": [],
   "source": []
  }
 ],
 "metadata": {
  "kernelspec": {
   "display_name": "Python 3",
   "language": "python",
   "name": "python3"
  },
  "language_info": {
   "codemirror_mode": {
    "name": "ipython",
    "version": 3
   },
   "file_extension": ".py",
   "mimetype": "text/x-python",
   "name": "python",
   "nbconvert_exporter": "python",
   "pygments_lexer": "ipython3",
   "version": "3.6.7"
  }
 },
 "nbformat": 4,
 "nbformat_minor": 2
}
