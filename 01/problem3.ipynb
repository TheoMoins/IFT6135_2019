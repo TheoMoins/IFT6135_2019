{
 "cells": [
  {
   "cell_type": "markdown",
   "metadata": {},
   "source": [
    "# Problem 3"
   ]
  },
  {
   "cell_type": "code",
   "execution_count": 1,
   "metadata": {},
   "outputs": [],
   "source": [
    "import re\n",
    "import csv\n",
    "import PIL\n",
    "import glob\n",
    "import math\n",
    "from random import uniform\n",
    "import numpy as np\n",
    "from PIL import Image\n",
    "from sklearn.model_selection import train_test_split\n",
    "from sklearn.model_selection import ParameterGrid\n",
    "from matplotlib import pyplot as plt\n",
    "import torch\n",
    "import torch.nn as nn\n",
    "import torch.nn.functional as F\n",
    "import torch.optim as optim\n",
    "import torch.utils.data as data"
   ]
  },
  {
   "cell_type": "markdown",
   "metadata": {},
   "source": [
    "## Functions"
   ]
  },
  {
   "cell_type": "code",
   "execution_count": 2,
   "metadata": {},
   "outputs": [],
   "source": [
    "def rotate(img, angle_deg):\n",
    "    angle_rad = angle_deg * math.pi / 180\n",
    "    rotate_img = img.rotate(angle_deg, PIL.Image.BILINEAR)\n",
    "    sin, cos = abs(math.sin(angle_rad)), abs(math.cos(angle_rad))\n",
    "    crop = 64 * (cos - sin) / (cos**2 - sin**2)\n",
    "    upper = left = math.ceil((64 - crop) / 2)\n",
    "    lower = right = math.ceil((64 - crop) / 2 + crop)\n",
    "    rotate_img = rotate_img.crop(box=(left, upper, right, lower))\n",
    "    rotate_img = rotate_img.resize((64, 64), PIL.Image.BILINEAR)\n",
    "    return rotate_img"
   ]
  },
  {
   "cell_type": "code",
   "execution_count": 3,
   "metadata": {},
   "outputs": [],
   "source": [
    "def scale(img, factor):\n",
    "    crop = 64 * (1 - factor / 100)\n",
    "    upper = left = math.ceil((64 - crop) / 2)\n",
    "    lower = right = math.ceil((64 - crop) / 2 + crop)\n",
    "    scale_img = img.crop(box=(left, upper, right, lower))\n",
    "    scale_img = scale_img.resize((64, 64), PIL.Image.BILINEAR)\n",
    "    return scale_img"
   ]
  },
  {
   "cell_type": "code",
   "execution_count": 4,
   "metadata": {},
   "outputs": [],
   "source": [
    "def load_train(path, augmentation=False, max_rotate=30, max_scale=50):\n",
    "    filenames = [f for f in glob.glob(path + \"**/*.jpg\", recursive=True)]\n",
    "    labels = [0 if \"Cat\" in f else 1 for f in filenames]\n",
    "    f_train, f_valid, l_train, l_valid = train_test_split(\n",
    "        filenames, labels, test_size=0.2, stratify=labels)\n",
    "\n",
    "    x_train, x_valid, y_train, y_valid = [], [], [], []\n",
    "\n",
    "    for file, label in zip(f_train, l_train):\n",
    "        with Image.open(file) as img:\n",
    "            data = list((p, p, p) if isinstance(p, int) else tuple(p)\n",
    "                        for p in img.getdata())\n",
    "            x_train.append(np.array(data).reshape(64, 64, 3))\n",
    "            y_train.append(label)\n",
    "            if augmentation:\n",
    "                #scale\n",
    "                scale_img = scale(img, uniform(5, max_scale))\n",
    "                data = list((p, p, p) if isinstance(p, int) else tuple(p)\n",
    "                            for p in scale_img.getdata())\n",
    "                x_train.append(np.array(data).reshape(64, 64, 3))\n",
    "                #rotate\n",
    "                rotate_img = rotate(img, uniform(-max_scale, max_scale))\n",
    "                data = list((p, p, p) if isinstance(p, int) else tuple(p)\n",
    "                            for p in rotate_img.getdata())\n",
    "                x_train.append(np.array(data).reshape(64, 64, 3))\n",
    "                #flip (horizontal)\n",
    "                flip_img = img.transpose(Image.FLIP_LEFT_RIGHT)\n",
    "                data = list((p, p, p) if isinstance(p, int) else tuple(p)\n",
    "                            for p in flip_img.getdata())\n",
    "                x_train.append(np.array(data).reshape(64, 64, 3))\n",
    "                y_train += [label] * 3\n",
    "\n",
    "    for file, label in zip(f_valid, l_valid):\n",
    "        img = Image.open(file)\n",
    "        data = list((p, p, p) if isinstance(p, int) else tuple(p)\n",
    "                    for p in img.getdata())\n",
    "        x_valid.append(np.array(data).reshape(64, 64, 3))\n",
    "        y_valid.append(label)\n",
    "\n",
    "    x_train = np.asarray(x_train).swapaxes(1, 3).swapaxes(\n",
    "        2, 3).astype(\"float32\") / 255.\n",
    "    x_valid = np.asarray(x_valid).swapaxes(1, 3).swapaxes(\n",
    "        2, 3).astype(\"float32\") / 255.\n",
    "    y_train = np.asarray(y_train).reshape(-1, 1)\n",
    "    y_valid = np.asarray(y_valid).reshape(-1, 1)\n",
    "\n",
    "    return x_train, x_valid, y_train, y_valid"
   ]
  },
  {
   "cell_type": "markdown",
   "metadata": {},
   "source": [
    "Note it is not the best way to call *augmentation_size* times the function *scale* and *rotate* (see [here](https://wiki.python.org/moin/PythonSpeed/PerformanceTips)), but it is easier to understand."
   ]
  },
  {
   "cell_type": "markdown",
   "metadata": {},
   "source": [
    "We should not do data augmentation on the validation set (to be confirm)."
   ]
  },
  {
   "cell_type": "markdown",
   "metadata": {},
   "source": [
    "## Model"
   ]
  },
  {
   "cell_type": "code",
   "execution_count": 5,
   "metadata": {},
   "outputs": [],
   "source": [
    "class Net(nn.Module):\n",
    "    def __init__(self,\n",
    "                 activation=nn.ReLU(),\n",
    "                 n_filters=(8, 16, 32),\n",
    "                 linear_size=100):\n",
    "        super(Net, self).__init__()\n",
    "        self.activation = activation\n",
    "        self.n_filters = n_filters\n",
    "        self.linear_size = linear_size\n",
    "        self.conv = nn.Sequential(\n",
    "            nn.Conv2d(\n",
    "                3, self.n_filters[0], kernel_size=3, stride=1, padding=1),\n",
    "            nn.MaxPool2d(2, 2), self.activation,\n",
    "            nn.Conv2d(\n",
    "                self.n_filters[0],\n",
    "                self.n_filters[1],\n",
    "                kernel_size=3,\n",
    "                stride=1,\n",
    "                padding=1), nn.MaxPool2d(2, 2), self.activation,\n",
    "            nn.Conv2d(\n",
    "                self.n_filters[1], self.n_filters[2], kernel_size=5, stride=1),\n",
    "            nn.MaxPool2d(3, 3), self.activation)\n",
    "\n",
    "        self.mlp = nn.Sequential(\n",
    "            nn.Linear(self.n_filters[2] * 4 * 4, self.linear_size),\n",
    "            self.activation, nn.Linear(self.linear_size, 1))\n",
    "\n",
    "    def forward(self, x):\n",
    "        x = self.conv(x)\n",
    "        x = torch.sigmoid(self.mlp(x.view(-1, self.n_filters[2] * 4 * 4)))\n",
    "        return x\n",
    "\n",
    "    def evaluate(self, loader):\n",
    "        with torch.no_grad():\n",
    "            val_loss, correct, total = 0, 0, 0\n",
    "            for data in loader:\n",
    "                # get the inputs\n",
    "                inputs, labels = data\n",
    "                inputs, labels = inputs.to(device), labels.to(device)\n",
    "                ouputs = self(inputs)\n",
    "                val_loss += criterion(ouputs, labels).item()\n",
    "                total += labels.size(0)\n",
    "                predicted = (ouputs > 0.5).float()\n",
    "                correct += (predicted == labels).sum().item()\n",
    "        return val_loss / len(loader), correct / total\n",
    "\n",
    "    def predict(self, loader):\n",
    "        predictions = []\n",
    "        with torch.no_grad():\n",
    "            for inputs in loader:\n",
    "                inputs = inputs.to(device)\n",
    "                ouputs = self(inputs)\n",
    "                predictions.extend((ouputs > 0.5).float().cpu().numpy())\n",
    "        return np.asarray(predictions).reshape(-1)\n",
    "\n",
    "    def train(self,\n",
    "              trainloader,\n",
    "              validloader,\n",
    "              patience=5,\n",
    "              max_it=9999,\n",
    "              verbose=True):\n",
    "        counter, best_val_acc, train_loss, val_loss = 0, -1, None, None\n",
    "        history = ([], [], [])\n",
    "        if verbose:\n",
    "            print(\"{:5s} | {:10s} | {:10s} | {:10s}\".format(\n",
    "                \"epoch\", \"train_loss\", \"valid_loss\", \"valid_acc\"))\n",
    "        for epoch in range(max_it):\n",
    "            running_loss = 0\n",
    "            # early stopping\n",
    "            counter += 1\n",
    "            if counter > patience - 1:\n",
    "                break\n",
    "            for i, data in enumerate(trainloader, 1):\n",
    "                # get the inputs\n",
    "                inputs, labels = data\n",
    "                inputs, labels = inputs.to(device), labels.to(device)\n",
    "                # zero the parameter gradients\n",
    "                optimizer.zero_grad()\n",
    "                # forward + backward + optimize\n",
    "                outputs = self.forward(inputs)\n",
    "                train_loss = criterion(outputs, labels)\n",
    "                running_loss += train_loss.item()\n",
    "                train_loss.backward()\n",
    "                optimizer.step()\n",
    "            val_loss, val_acc = self.evaluate(validloader)\n",
    "            if verbose:\n",
    "                print(\n",
    "                    \"{:5d} | {:10.5f} | {:10.5f} | {:10.2%}\".format(\n",
    "                        epoch, running_loss / len(trainloader), val_loss,\n",
    "                        val_acc),\n",
    "                    end=\"\")\n",
    "            if val_acc > best_val_acc:\n",
    "                counter = 0\n",
    "                best_val_acc = val_acc\n",
    "                torch.save(self.state_dict(), \"best_model\")\n",
    "                if verbose:\n",
    "                    print(\"\\tsaved!\", end=\"\")\n",
    "            else:\n",
    "                scheduler.step()\n",
    "            if verbose:\n",
    "                print(\"\")\n",
    "            history[0].append(running_loss / len(trainloader))\n",
    "            history[1].append(val_loss)\n",
    "            history[2].append(val_acc)\n",
    "        self.load_state_dict(torch.load(\"best_model\"))\n",
    "        return history"
   ]
  },
  {
   "cell_type": "markdown",
   "metadata": {},
   "source": [
    "## Load data (with augmentation)"
   ]
  },
  {
   "cell_type": "code",
   "execution_count": 6,
   "metadata": {},
   "outputs": [
    {
     "name": "stdout",
     "output_type": "stream",
     "text": [
      "(63992, 3, 64, 64)\n",
      "(4000, 3, 64, 64)\n"
     ]
    }
   ],
   "source": [
    "x_train, x_valid, y_train, y_valid = load_train(\"data/kaggle/trainset/\", augmentation=True)\n",
    "\n",
    "print(x_train.shape)\n",
    "print(x_valid.shape)\n",
    "\n",
    "x_train = torch.from_numpy(x_train).float()\n",
    "y_train = torch.from_numpy(y_train).float()\n",
    "x_valid = torch.from_numpy(x_valid).float()\n",
    "y_valid = torch.from_numpy(y_valid).float()\n",
    "\n",
    "train = torch.utils.data.TensorDataset(x_train, y_train)\n",
    "trainloader = torch.utils.data.DataLoader(train, batch_size=128, shuffle=True)\n",
    "\n",
    "valid = torch.utils.data.TensorDataset(x_valid, y_valid)\n",
    "validloader = torch.utils.data.DataLoader(valid, batch_size=128, shuffle=False)"
   ]
  },
  {
   "cell_type": "markdown",
   "metadata": {},
   "source": [
    "## Train one model (sanity check)"
   ]
  },
  {
   "cell_type": "code",
   "execution_count": 7,
   "metadata": {},
   "outputs": [
    {
     "name": "stdout",
     "output_type": "stream",
     "text": [
      "Let's use cuda:0\n"
     ]
    }
   ],
   "source": [
    "model = Net()\n",
    "device = torch.device(\"cuda:0\" if torch.cuda.is_available() else \"cpu\")\n",
    "model.to(device)\n",
    "print(\"Let\\'s use {}\".format(device))"
   ]
  },
  {
   "cell_type": "code",
   "execution_count": 8,
   "metadata": {},
   "outputs": [],
   "source": [
    "# define loss, optimizer and lr decay globally (probably not the best way)\n",
    "criterion = nn.BCELoss()\n",
    "optimizer = optim.SGD(model.parameters(), lr=0.1)\n",
    "scheduler = optim.lr_scheduler.ExponentialLR(optimizer, 1)"
   ]
  },
  {
   "cell_type": "code",
   "execution_count": 9,
   "metadata": {},
   "outputs": [
    {
     "name": "stdout",
     "output_type": "stream",
     "text": [
      "epoch | train_loss | valid_loss | valid_acc \n",
      "    0 |    0.69264 |    0.69100 |     52.60%\tsaved!\n",
      "    1 |    0.67862 |    0.66053 |     60.85%\tsaved!\n",
      "    2 |    0.64642 |    0.61327 |     67.58%\tsaved!\n",
      "    3 |    0.61125 |    0.57467 |     69.90%\tsaved!\n",
      "    4 |    0.57876 |    0.53386 |     73.28%\tsaved!\n",
      "    5 |    0.55017 |    0.51699 |     74.55%\tsaved!\n",
      "    6 |    0.52822 |    0.50782 |     75.20%\tsaved!\n",
      "    7 |    0.50455 |    0.52167 |     74.05%\n",
      "    8 |    0.48521 |    0.46995 |     76.80%\tsaved!\n",
      "    9 |    0.46969 |    0.45222 |     78.45%\tsaved!\n",
      "   10 |    0.45333 |    0.44936 |     78.12%\n",
      "   11 |    0.43716 |    0.59403 |     70.45%\n",
      "   12 |    0.41873 |    0.44791 |     78.83%\tsaved!\n",
      "   13 |    0.40986 |    0.41628 |     79.92%\tsaved!\n",
      "   14 |    0.38956 |    0.46215 |     78.55%\n",
      "   15 |    0.37301 |    0.42898 |     79.57%\n",
      "   16 |    0.35930 |    0.43437 |     80.60%\tsaved!\n",
      "   17 |    0.34212 |    0.47099 |     79.00%\n",
      "   18 |    0.33145 |    0.44548 |     80.88%\tsaved!\n",
      "   19 |    0.31245 |    0.46096 |     79.07%\n",
      "   20 |    0.29714 |    0.48757 |     79.75%\n",
      "   21 |    0.28558 |    0.46636 |     80.23%\n",
      "   22 |    0.27061 |    0.46949 |     79.05%\n"
     ]
    }
   ],
   "source": [
    "(train_loss, valid_loss, valid_acc) = model.train(trainloader, validloader)"
   ]
  },
  {
   "cell_type": "code",
   "execution_count": 10,
   "metadata": {},
   "outputs": [
    {
     "data": {
      "image/png": "[encoded data removed]",
      "text/plain": [
       "<Figure size 432x288 with 1 Axes>"
      ]
     },
     "metadata": {
      "needs_background": "light"
     },
     "output_type": "display_data"
    }
   ],
   "source": [
    "plt.plot(range(0, len(train_loss)), train_loss, label=\"training loss\")\n",
    "plt.plot(range(0, len(valid_loss)), valid_loss, label=\"validation loss\")\n",
    "plt.axvline(np.argmax(valid_acc), c=\"k\", label=\"early stopping\")\n",
    "plt.legend()\n",
    "plt.xlabel(\"epoch\")\n",
    "plt.ylabel(\"binary cross-entropy\")\n",
    "plt.show()"
   ]
  },
  {
   "cell_type": "markdown",
   "metadata": {},
   "source": [
    "The network start to overfit. Early stopping + load the best model allows us to avoid this problem."
   ]
  },
  {
   "cell_type": "markdown",
   "metadata": {},
   "source": [
    "## Grid Search"
   ]
  },
  {
   "cell_type": "code",
   "execution_count": 11,
   "metadata": {},
   "outputs": [
    {
     "name": "stdout",
     "output_type": "stream",
     "text": [
      "{'activation': ReLU(), 'batch_size': 32, 'linear_size': 10, 'lr': 0.1, 'lr_decay': 1, 'n_filters': (8, 8, 16)}: 78.6%\n",
      "{'activation': ReLU(), 'batch_size': 32, 'linear_size': 10, 'lr': 0.1, 'lr_decay': 1, 'n_filters': (8, 16, 16)}: 83.2%\n",
      "{'activation': ReLU(), 'batch_size': 32, 'linear_size': 100, 'lr': 0.1, 'lr_decay': 0.9, 'n_filters': (8, 16, 32)}: 83.3%\n",
      "{'activation': ReLU(), 'batch_size': 32, 'linear_size': 100, 'lr': 0.1, 'lr_decay': 0.1, 'n_filters': (8, 16, 32)}: 84.0%\n"
     ]
    }
   ],
   "source": [
    "best_params, best_model, best_val_acc = None, None, -1\n",
    "\n",
    "param_grid = {\n",
    "    \"lr\": [0.1, 0.01, 0.001],\n",
    "    \"lr_decay\": [1, 0.9, 0.1],\n",
    "    \"activation\": [nn.ReLU()],\n",
    "    \"n_filters\": [(8, 8, 16), (8, 16, 16), (8, 16, 32)],\n",
    "    \"linear_size\": [10, 20, 100],\n",
    "    \"batch_size\": [32, 128]\n",
    "}\n",
    "\n",
    "for params in ParameterGrid(param_grid):\n",
    "    trainloader = torch.utils.data.DataLoader(\n",
    "        train, params[\"batch_size\"], shuffle=True)\n",
    "    validloader = torch.utils.data.DataLoader(\n",
    "        valid, params[\"batch_size\"], shuffle=True)\n",
    "    model = Net(params[\"activation\"], params[\"n_filters\"],\n",
    "                params[\"linear_size\"])\n",
    "    model.to(device)\n",
    "    criterion = nn.BCELoss()\n",
    "    optimizer = optim.SGD(model.parameters(), params[\"lr\"])\n",
    "    scheduler = optim.lr_scheduler.ExponentialLR(optimizer, params[\"lr_decay\"])\n",
    "    model.train(trainloader, validloader, verbose=False)\n",
    "    val_acc = model.evaluate(validloader)[1]\n",
    "    if val_acc > best_val_acc:\n",
    "        best_model = model\n",
    "        best_params = params\n",
    "        best_val_acc = val_acc\n",
    "        print(\"{}: {:.1%}\".format(params, val_acc))"
   ]
  },
  {
   "cell_type": "markdown",
   "metadata": {},
   "source": [
    "## Test set prediction"
   ]
  },
  {
   "cell_type": "code",
   "execution_count": 12,
   "metadata": {},
   "outputs": [],
   "source": [
    "x_test, id = [], []\n",
    "for file in glob.glob(\"data/kaggle/testset/test/*.jpg\"):\n",
    "    id.append(int(file[25:-4]))\n",
    "    img = Image.open(file)\n",
    "    data = list(\n",
    "        (p, p, p) if isinstance(p, int) else tuple(p) for p in img.getdata())\n",
    "    x_test.append(np.array(data).reshape(64, 64, 3))\n",
    "x_test = np.asarray(x_test).swapaxes(1, 3).swapaxes(2,\n",
    "                                                    3).astype(\"float32\") / 255.\n",
    "x_test = torch.from_numpy(x_test).float()\n",
    "testloader = torch.utils.data.DataLoader(x_test, 1024, shuffle=False)"
   ]
  },
  {
   "cell_type": "code",
   "execution_count": 13,
   "metadata": {},
   "outputs": [],
   "source": [
    "predictions = best_model.predict(testloader)"
   ]
  },
  {
   "cell_type": "code",
   "execution_count": 14,
   "metadata": {},
   "outputs": [],
   "source": [
    "# sort porediction according to number\n",
    "predictions = [p for _,p in sorted(zip(id,predictions))]"
   ]
  },
  {
   "cell_type": "code",
   "execution_count": 15,
   "metadata": {},
   "outputs": [],
   "source": [
    "file = open(\"predictions.csv\", \"w\")\n",
    "writer = csv.writer(\n",
    "    file, delimiter=\" \", escapechar=\" \", quoting=csv.QUOTE_NONE)\n",
    "header = [\"id,label\"]\n",
    "writer.writerow(header)\n",
    "for i, p in enumerate(predictions, 1):\n",
    "    writer.writerow([\"{},{}\".format(i, \"Cat\" if p == 0 else \"Dog\")])\n",
    "file.close()"
   ]
  },
  {
   "cell_type": "code",
   "execution_count": null,
   "metadata": {},
   "outputs": [],
   "source": []
  }
 ],
 "metadata": {
  "kernelspec": {
   "display_name": "Python 3",
   "language": "python",
   "name": "python3"
  },
  "language_info": {
   "codemirror_mode": {
    "name": "ipython",
    "version": 3
   },
   "file_extension": ".py",
   "mimetype": "text/x-python",
   "name": "python",
   "nbconvert_exporter": "python",
   "pygments_lexer": "ipython3",
   "version": "3.6.7"
  }
 },
 "nbformat": 4,
 "nbformat_minor": 2
}
