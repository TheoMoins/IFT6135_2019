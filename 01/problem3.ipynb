{
 "cells": [
  {
   "cell_type": "markdown",
   "metadata": {},
   "source": [
    "# Problem 3"
   ]
  },
  {
   "cell_type": "code",
   "execution_count": 1,
   "metadata": {},
   "outputs": [],
   "source": [
    "import PIL\n",
    "import glob\n",
    "import math\n",
    "from random import uniform\n",
    "import numpy as np\n",
    "from PIL import Image\n",
    "from sklearn.model_selection import train_test_split\n",
    "from sklearn.model_selection import ParameterGrid\n",
    "from matplotlib import pyplot as plt\n",
    "import torch\n",
    "import torch.nn as nn\n",
    "import torch.nn.functional as F\n",
    "import torch.optim as optim\n",
    "import torch.utils.data as data"
   ]
  },
  {
   "cell_type": "markdown",
   "metadata": {},
   "source": [
    "## Functions"
   ]
  },
  {
   "cell_type": "code",
   "execution_count": 2,
   "metadata": {},
   "outputs": [],
   "source": [
    "def rotate(img, angle_deg):\n",
    "    angle_rad = angle_deg * math.pi / 180\n",
    "    rotate_img = img.rotate(angle_deg, PIL.Image.BILINEAR)\n",
    "    sin, cos = abs(math.sin(angle_rad)), abs(math.cos(angle_rad))\n",
    "    crop = 64 * (cos - sin)/(cos**2 - sin**2)\n",
    "    upper = left = math.ceil((64-crop)/2)\n",
    "    lower = right = math.ceil((64-crop)/2 + crop)\n",
    "    rotate_img = rotate_img.crop(box=(left, upper, right, lower))\n",
    "    rotate_img = rotate_img.resize((64, 64), PIL.Image.BILINEAR)\n",
    "    return rotate_img"
   ]
  },
  {
   "cell_type": "code",
   "execution_count": 3,
   "metadata": {},
   "outputs": [],
   "source": [
    "def scale(img, factor):\n",
    "    crop = 64 * (1 - factor / 100)\n",
    "    upper = left = math.ceil((64-crop)/2)\n",
    "    lower = right = math.ceil((64-crop)/2 + crop)\n",
    "    scale_img = img.crop(box=(left, upper, right, lower))\n",
    "    scale_img = scale_img.resize((64, 64), PIL.Image.BILINEAR)\n",
    "    return scale_img"
   ]
  },
  {
   "cell_type": "code",
   "execution_count": 4,
   "metadata": {},
   "outputs": [],
   "source": [
    "def load_train(path,\n",
    "               augmentation=0,\n",
    "               max_rotate=30,\n",
    "               max_scale=50):\n",
    "    x, y = [], []\n",
    "    for file in glob.glob(path + \"**/*.jpg\", recursive=True):\n",
    "        img = Image.open(file)\n",
    "        data = list((p, p, p) if isinstance(p, int) else tuple(p) for p in img.getdata())\n",
    "        x.append(np.array(data).reshape(64, 64, 3))\n",
    "        y.append(0 if \"Cat\" in file else 1)\n",
    "        if augmentation > 0:\n",
    "            for _ in range(augmentation):\n",
    "                #scale\n",
    "                scale_img = scale(img, uniform(1, max_scale))\n",
    "                data = list((p, p, p) if isinstance(p, int) else tuple(p) for p in img.getdata())\n",
    "                x.append(np.array(data).reshape(64, 64, 3))\n",
    "                y.append(0 if \"Cat\" in file else 1)\n",
    "                #rotate\n",
    "                rotate_img = rotate(img, uniform(-max_scale, max_scale))\n",
    "                data = list((p, p, p) if isinstance(p, int) else tuple(p) for p in img.getdata())\n",
    "                x.append(np.array(data).reshape(64, 64, 3))\n",
    "                y.append(0 if \"Cat\" in file else 1)\n",
    "    x = np.asarray(x).swapaxes(1, 3).swapaxes(2, 3).astype(\"float32\") / 255.\n",
    "    y = np.asarray(y).reshape(-1, 1)\n",
    "    return x, y"
   ]
  },
  {
   "cell_type": "markdown",
   "metadata": {},
   "source": [
    "Note it is not the best way to call *augmentation_size* times the function *scale* and *rotate* (see [here](https://wiki.python.org/moin/PythonSpeed/PerformanceTips)), but it is easier to understand."
   ]
  },
  {
   "cell_type": "markdown",
   "metadata": {},
   "source": [
    "We should not do data augmentation on the validation set (to be confirm)."
   ]
  },
  {
   "cell_type": "markdown",
   "metadata": {},
   "source": [
    "## Model"
   ]
  },
  {
   "cell_type": "code",
   "execution_count": 56,
   "metadata": {},
   "outputs": [],
   "source": [
    "class Net(nn.Module):\n",
    "    def __init__(self,\n",
    "                 activation=nn.ReLU(),\n",
    "                 n_filters=(8, 16, 32),\n",
    "                 linear_size=100):\n",
    "        super(Net, self).__init__()\n",
    "        self.activation = activation\n",
    "        self.n_filters = n_filters\n",
    "        self.linear_size = linear_size\n",
    "        self.conv = nn.Sequential(\n",
    "            nn.Conv2d(\n",
    "                3, self.n_filters[0], kernel_size=3, stride=1, padding=1),\n",
    "            nn.MaxPool2d(2, 2), self.activation,\n",
    "            nn.Conv2d(\n",
    "                self.n_filters[0],\n",
    "                self.n_filters[1],\n",
    "                kernel_size=3,\n",
    "                stride=1,\n",
    "                padding=1), nn.MaxPool2d(2, 2), self.activation,\n",
    "            nn.Conv2d(\n",
    "                self.n_filters[1], self.n_filters[2], kernel_size=5, stride=1),\n",
    "            nn.MaxPool2d(3, 3), self.activation)\n",
    "\n",
    "        self.mlp = nn.Sequential(\n",
    "            nn.Linear(self.n_filters[2] * 4 * 4, self.linear_size),\n",
    "            self.activation, nn.Linear(self.linear_size, 1))\n",
    "\n",
    "    def forward(self, x):\n",
    "        x = self.conv(x)\n",
    "        x = torch.sigmoid(self.mlp(x.view(-1, self.n_filters[2] * 4 * 4)))\n",
    "        return x\n",
    "\n",
    "    def evaluate(self, loader):\n",
    "        with torch.no_grad():\n",
    "            val_loss, correct, total = 0, 0, 0\n",
    "            for data in loader:\n",
    "                # get the inputs\n",
    "                inputs, labels = data\n",
    "                inputs, labels = inputs.to(device), labels.to(device)\n",
    "                ouputs = self(inputs)\n",
    "                val_loss += criterion(ouputs, labels).item()\n",
    "                total += labels.size(0)\n",
    "                predicted = (ouputs > 0.5).float()\n",
    "                correct += (predicted == labels).sum().item()\n",
    "        return val_loss / len(loader), correct / total\n",
    "\n",
    "    def predict(self, loader):\n",
    "        predictions = []\n",
    "        with torch.no_grad():\n",
    "            for inputs in loader:\n",
    "                inputs = inputs.to(device)\n",
    "                ouputs = self(inputs)\n",
    "                predictions.extend((ouputs > 0.5).float().cpu().numpy())\n",
    "        return np.asarray(predictions).reshape(-1)\n",
    "\n",
    "    def train(self,\n",
    "              trainloader,\n",
    "              validloader,\n",
    "              patience=10,\n",
    "              max_it=9999,\n",
    "              verbose=True):\n",
    "        counter, best_val_acc, train_loss, val_loss = 0, -1, None, None\n",
    "        history = ([], [], [])\n",
    "        if verbose:\n",
    "            print(\"{:5s} | {:10s} | {:10s} | {:10s}\".format(\n",
    "                \"epoch\", \"train_loss\", \"valid_loss\", \"valid_acc\"))\n",
    "        for epoch in range(max_it):\n",
    "            running_loss = 0\n",
    "            # early stopping\n",
    "            counter += 1\n",
    "            # decay lr after 2 epochs\n",
    "            if epoch > 1:\n",
    "                scheduler.step()\n",
    "            if counter > patience - 1:\n",
    "                break\n",
    "            for i, data in enumerate(trainloader, 1):\n",
    "                # get the inputs\n",
    "                inputs, labels = data\n",
    "                inputs, labels = inputs.to(device), labels.to(device)\n",
    "                # zero the parameter gradients\n",
    "                optimizer.zero_grad()\n",
    "                # forward + backward + optimize\n",
    "                outputs = self.forward(inputs)\n",
    "                train_loss = criterion(outputs, labels)\n",
    "                running_loss += train_loss.item()\n",
    "                train_loss.backward()\n",
    "                optimizer.step()\n",
    "            val_loss, val_acc = self.evaluate(validloader)\n",
    "            if verbose:\n",
    "                print(\n",
    "                    \"{:5d} | {:10.5f} | {:10.5f} | {:10.2%}\".format(\n",
    "                        epoch, running_loss / len(trainloader), val_loss,\n",
    "                        val_acc),\n",
    "                    end=\"\")\n",
    "            if val_acc > best_val_acc:\n",
    "                counter = 0\n",
    "                best_val_acc = val_acc\n",
    "                torch.save(self.state_dict(), \"best_model\")\n",
    "                if verbose:\n",
    "                    print(\"\\tsaved!\", end=\"\")\n",
    "            if verbose:\n",
    "                print(\"\")\n",
    "            history[0].append(running_loss / len(trainloader))\n",
    "            history[1].append(val_loss)\n",
    "            history[2].append(val_acc)\n",
    "        self.load_state_dict(torch.load(\"best_model\"))\n",
    "        return history"
   ]
  },
  {
   "cell_type": "markdown",
   "metadata": {},
   "source": [
    "## Load data (without augmentation)"
   ]
  },
  {
   "cell_type": "code",
   "execution_count": 6,
   "metadata": {},
   "outputs": [],
   "source": [
    "x, y = load_train(\"data/kaggle/trainset/\", augmentation=0)\n",
    "\n",
    "x_train, x_valid, y_train, y_valid = train_test_split(\n",
    "    x, y, test_size=0.1, stratify=y)\n",
    "\n",
    "x_train = torch.from_numpy(x_train).float()\n",
    "y_train = torch.from_numpy(y_train).float()\n",
    "x_valid = torch.from_numpy(x_valid).float()\n",
    "y_valid = torch.from_numpy(y_valid).float()\n",
    "\n",
    "train = torch.utils.data.TensorDataset(x_train, y_train)\n",
    "trainloader = torch.utils.data.DataLoader(train, batch_size=128, shuffle=True)\n",
    "\n",
    "valid = torch.utils.data.TensorDataset(x_valid, y_valid)\n",
    "validloader = torch.utils.data.DataLoader(valid, batch_size=128, shuffle=True)"
   ]
  },
  {
   "cell_type": "markdown",
   "metadata": {},
   "source": [
    "## Train one model (sanity check)"
   ]
  },
  {
   "cell_type": "code",
   "execution_count": 7,
   "metadata": {},
   "outputs": [
    {
     "name": "stdout",
     "output_type": "stream",
     "text": [
      "Let's use cuda:0\n"
     ]
    }
   ],
   "source": [
    "model = Net()\n",
    "device = torch.device(\"cuda:0\" if torch.cuda.is_available() else \"cpu\")\n",
    "model.to(device)\n",
    "print(\"Let\\'s use {}\".format(device))"
   ]
  },
  {
   "cell_type": "code",
   "execution_count": 8,
   "metadata": {},
   "outputs": [],
   "source": [
    "# define loss, optimizer and lr decay globally (probably not the best way)\n",
    "criterion = nn.BCELoss()\n",
    "optimizer = optim.SGD(model.parameters(), lr=0.1, momentum=0.9)\n",
    "scheduler = optim.lr_scheduler.ExponentialLR(optimizer, 0.9)"
   ]
  },
  {
   "cell_type": "code",
   "execution_count": 9,
   "metadata": {},
   "outputs": [
    {
     "name": "stdout",
     "output_type": "stream",
     "text": [
      "epoch | train_loss | valid_loss | valid_acc \n",
      "    0 |    0.69268 |    0.69101 |     50.00%\tsaved!\n",
      "    1 |    0.67399 |    0.63013 |     65.60%\tsaved!\n",
      "    2 |    0.63130 |    0.61329 |     67.35%\tsaved!\n",
      "    3 |    0.58455 |    0.57155 |     69.60%\tsaved!\n",
      "    4 |    0.54425 |    0.54085 |     72.85%\tsaved!\n",
      "    5 |    0.51539 |    0.52145 |     73.45%\tsaved!\n",
      "    6 |    0.48965 |    0.50931 |     75.45%\tsaved!\n",
      "    7 |    0.45851 |    0.49654 |     75.65%\tsaved!\n",
      "    8 |    0.43198 |    0.50629 |     75.65%\n",
      "    9 |    0.40612 |    0.49974 |     77.25%\tsaved!\n",
      "   10 |    0.36549 |    0.49352 |     77.70%\tsaved!\n",
      "   11 |    0.33755 |    0.49474 |     78.15%\tsaved!\n",
      "   12 |    0.29319 |    0.56288 |     75.85%\n",
      "   13 |    0.25111 |    0.58479 |     76.95%\n",
      "   14 |    0.22006 |    0.60163 |     77.30%\n",
      "   15 |    0.16944 |    0.76482 |     75.15%\n",
      "   16 |    0.14147 |    0.74087 |     75.90%\n",
      "   17 |    0.10953 |    0.90081 |     77.40%\n",
      "   18 |    0.07520 |    0.93229 |     76.10%\n",
      "   19 |    0.04896 |    1.09424 |     76.45%\n",
      "   20 |    0.02879 |    1.14499 |     77.00%\n"
     ]
    }
   ],
   "source": [
    "(train_loss, valid_loss, valid_acc) = model.train(trainloader, validloader)"
   ]
  },
  {
   "cell_type": "code",
   "execution_count": 10,
   "metadata": {},
   "outputs": [
    {
     "data": {
      "image/png": "[encoded data removed]",
      "text/plain": [
       "<Figure size 432x288 with 1 Axes>"
      ]
     },
     "metadata": {
      "needs_background": "light"
     },
     "output_type": "display_data"
    }
   ],
   "source": [
    "plt.plot(range(0, len(train_loss)), train_loss, label=\"training loss\")\n",
    "plt.plot(range(0, len(valid_loss)), valid_loss, label=\"validation loss\")\n",
    "plt.axvline(np.argmax(valid_acc), c=\"k\", label=\"early stopping\")\n",
    "plt.legend()\n",
    "plt.xlabel(\"epoch\")\n",
    "plt.ylabel(\"binary cross-entropy\")\n",
    "plt.show()"
   ]
  },
  {
   "cell_type": "markdown",
   "metadata": {},
   "source": [
    "The network start to overfit after 12 epochs. Early stopping + load the best model allows us to avoid this problem."
   ]
  },
  {
   "cell_type": "markdown",
   "metadata": {},
   "source": [
    "## Grid Search"
   ]
  },
  {
   "cell_type": "code",
   "execution_count": 11,
   "metadata": {},
   "outputs": [
    {
     "name": "stdout",
     "output_type": "stream",
     "text": [
      "{'activation': ReLU(), 'batch_size': 128, 'f': 4, 'linear_size': 100, 'lr': 0.1, 'lr_decay': 0.99, 'momentum': 0}: 78.0%\n",
      "{'activation': ReLU(), 'batch_size': 128, 'f': 4, 'linear_size': 200, 'lr': 0.01, 'lr_decay': 0.99, 'momentum': 0.9}: 78.1%\n",
      "{'activation': ReLU(), 'batch_size': 128, 'f': 8, 'linear_size': 100, 'lr': 0.1, 'lr_decay': 0.9, 'momentum': 0.9}: 80.2%\n",
      "{'activation': ReLU(), 'batch_size': 128, 'f': 16, 'linear_size': 100, 'lr': 0.01, 'lr_decay': 0.99, 'momentum': 0.9}: 80.8%\n",
      "{'activation': Tanh(), 'batch_size': 128, 'f': 16, 'linear_size': 100, 'lr': 0.1, 'lr_decay': 0.5, 'momentum': 0.9}: 81.2%\n"
     ]
    }
   ],
   "source": [
    "best_params, best_model, best_val_acc = None, None, -1\n",
    "\n",
    "param_grid = {\n",
    "    \"lr\": [0.1, 0.01],\n",
    "    \"lr_decay\": [0.99, 0.9, 0.5],\n",
    "    \"momentum\": [0, 0.9],\n",
    "    \"activation\": [nn.ReLU(), nn.Tanh()],\n",
    "    \"f\": [4, 8, 16],\n",
    "    \"linear_size\": [100, 200],\n",
    "    \"batch_size\": [128, 512]\n",
    "}\n",
    "\n",
    "for params in ParameterGrid(param_grid):\n",
    "    trainloader = torch.utils.data.DataLoader(\n",
    "        train, params[\"batch_size\"], shuffle=True)\n",
    "    validloader = torch.utils.data.DataLoader(\n",
    "        valid, params[\"batch_size\"], shuffle=True)\n",
    "    n_filters = (params[\"f\"], params[\"f\"] * 2, params[\"f\"] * 4)\n",
    "    model = Net(params[\"activation\"], n_filters, params[\"linear_size\"])\n",
    "    model.to(device)\n",
    "    criterion = nn.BCELoss()\n",
    "    optimizer = optim.SGD(model.parameters(), params[\"lr\"],  params[\"momentum\"])\n",
    "    scheduler = optim.lr_scheduler.ExponentialLR(optimizer, params[\"lr_decay\"])\n",
    "    model.train(trainloader, validloader, verbose=False)\n",
    "    val_acc = model.evaluate(validloader)[1]\n",
    "    if val_acc > best_val_acc:\n",
    "        best_model = model\n",
    "        best_params = params\n",
    "        best_val_acc = val_acc\n",
    "        print(\"{}: {:.1%}\".format(params, val_acc))"
   ]
  },
  {
   "cell_type": "markdown",
   "metadata": {},
   "source": [
    "We do not do a grid search on the data augmentation parameters because it would take too long to generate the data again. Also, we report only the models that improve on the previous best."
   ]
  },
  {
   "cell_type": "markdown",
   "metadata": {},
   "source": [
    "## Load data (with augmentation)"
   ]
  },
  {
   "cell_type": "code",
   "execution_count": 12,
   "metadata": {},
   "outputs": [],
   "source": [
    "x, y = load_train(\"data/kaggle/trainset/\", augmentation=3)\n",
    "\n",
    "print(x.shape)\n",
    "\n",
    "x_train, x_valid, y_train, y_valid = train_test_split(\n",
    "    x, y, test_size=0.1, stratify=y)\n",
    "\n",
    "x_train = torch.from_numpy(x_train).float()\n",
    "y_train = torch.from_numpy(y_train).float()\n",
    "x_valid = torch.from_numpy(x_valid).float()\n",
    "y_valid = torch.from_numpy(y_valid).float()"
   ]
  },
  {
   "cell_type": "markdown",
   "metadata": {},
   "source": [
    "## Train model with best hyperparameters"
   ]
  },
  {
   "cell_type": "code",
   "execution_count": 57,
   "metadata": {},
   "outputs": [
    {
     "name": "stdout",
     "output_type": "stream",
     "text": [
      "epoch | train_loss | valid_loss | valid_acc \n",
      "    0 |    0.66743 |    0.63329 |     64.70%\tsaved!\n",
      "    1 |    0.58704 |    0.54186 |     72.45%\tsaved!\n",
      "    2 |    0.52285 |    0.49357 |     76.55%\tsaved!\n",
      "    3 |    0.45101 |    0.45781 |     78.15%\tsaved!\n",
      "    4 |    0.38773 |    0.46095 |     78.55%\tsaved!\n",
      "    5 |    0.33345 |    0.44897 |     79.75%\tsaved!\n",
      "    6 |    0.29224 |    0.47248 |     80.05%\tsaved!\n",
      "    7 |    0.26171 |    0.47361 |     80.05%\n",
      "    8 |    0.24523 |    0.47772 |     79.90%\n",
      "    9 |    0.23736 |    0.47861 |     80.00%\n",
      "   10 |    0.23218 |    0.48080 |     80.40%\tsaved!\n",
      "   11 |    0.22978 |    0.48214 |     80.30%\n",
      "   12 |    0.22837 |    0.47958 |     80.15%\n",
      "   13 |    0.22780 |    0.48365 |     80.05%\n",
      "   14 |    0.22744 |    0.47954 |     80.05%\n",
      "   15 |    0.22700 |    0.48362 |     80.05%\n",
      "   16 |    0.22708 |    0.47768 |     80.05%\n",
      "   17 |    0.22726 |    0.48281 |     80.05%\n",
      "   18 |    0.22714 |    0.48279 |     80.05%\n",
      "   19 |    0.22723 |    0.47958 |     80.05%\n"
     ]
    }
   ],
   "source": [
    "params = best_params\n",
    "trainloader = torch.utils.data.DataLoader(\n",
    "    train, params[\"batch_size\"], shuffle=True)\n",
    "validloader = torch.utils.data.DataLoader(\n",
    "    valid, params[\"batch_size\"], shuffle=True)\n",
    "n_filters = (params[\"f\"], params[\"f\"] * 2, params[\"f\"] * 4)\n",
    "best_model = Net(best_params[\"activation\"], n_filters, best_params[\"linear_size\"])\n",
    "best_model.to(device)\n",
    "criterion = nn.BCELoss()\n",
    "optimizer = optim.SGD(best_model.parameters(), params[\"lr\"],  params[\"momentum\"])\n",
    "scheduler = optim.lr_scheduler.ExponentialLR(optimizer, params[\"lr_decay\"])\n",
    "(train_loss, valid_loss, valid_acc) = best_model.train(trainloader, validloader)"
   ]
  },
  {
   "cell_type": "code",
   "execution_count": 58,
   "metadata": {},
   "outputs": [
    {
     "data": {
      "image/png": "[encoded data removed]",
      "text/plain": [
       "<Figure size 432x288 with 1 Axes>"
      ]
     },
     "metadata": {
      "needs_background": "light"
     },
     "output_type": "display_data"
    }
   ],
   "source": [
    "plt.plot(range(0, len(train_loss)), train_loss, label=\"training loss\")\n",
    "plt.plot(range(0, len(valid_loss)), valid_loss, label=\"validation loss\")\n",
    "plt.axvline(np.argmax(valid_acc), c=\"k\", label=\"early stopping\")\n",
    "plt.legend()\n",
    "plt.xlabel(\"epoch\")\n",
    "plt.ylabel(\"binary cross-entropy\")\n",
    "plt.show()"
   ]
  },
  {
   "cell_type": "code",
   "execution_count": 59,
   "metadata": {},
   "outputs": [],
   "source": [
    "x_test = []\n",
    "for file in glob.glob(\"data/kaggle/testset/test/*.jpg\"):\n",
    "    img = Image.open(file)\n",
    "    data = list((p, p, p) if isinstance(p, int) else tuple(p) for p in img.getdata())\n",
    "    x_test.append(np.array(data).reshape(64, 64, 3))\n",
    "x_test = np.asarray(x_test).swapaxes(1, 3).swapaxes(2, 3).astype(\"float32\") / 255.\n",
    "x_test = torch.from_numpy(x_test).float()\n",
    "testloader = torch.utils.data.DataLoader(x, 1024, shuffle=False)"
   ]
  },
  {
   "cell_type": "code",
   "execution_count": 60,
   "metadata": {},
   "outputs": [],
   "source": [
    "predictions = best_model.predict(testloader)"
   ]
  },
  {
   "cell_type": "code",
   "execution_count": 67,
   "metadata": {},
   "outputs": [
    {
     "ename": "Error",
     "evalue": "need to escape, but no escapechar set",
     "output_type": "error",
     "traceback": [
      "\u001b[0;31m---------------------------------------------------------------------------\u001b[0m",
      "\u001b[0;31mError\u001b[0m                                     Traceback (most recent call last)",
      "\u001b[0;32m<ipython-input-67-eb46c6352cc9>\u001b[0m in \u001b[0;36m<module>\u001b[0;34m\u001b[0m\n\u001b[1;32m      3\u001b[0m \u001b[0mwriter\u001b[0m \u001b[0;34m=\u001b[0m \u001b[0mcsv\u001b[0m\u001b[0;34m.\u001b[0m\u001b[0mwriter\u001b[0m\u001b[0;34m(\u001b[0m\u001b[0mfile\u001b[0m\u001b[0;34m,\u001b[0m \u001b[0mquoting\u001b[0m\u001b[0;34m=\u001b[0m\u001b[0mcsv\u001b[0m\u001b[0;34m.\u001b[0m\u001b[0mQUOTE_NONE\u001b[0m\u001b[0;34m)\u001b[0m\u001b[0;34m\u001b[0m\u001b[0;34m\u001b[0m\u001b[0m\n\u001b[1;32m      4\u001b[0m \u001b[0mheader\u001b[0m \u001b[0;34m=\u001b[0m \u001b[0;34m[\u001b[0m\u001b[0;34m\"id,label\"\u001b[0m\u001b[0;34m]\u001b[0m\u001b[0;34m\u001b[0m\u001b[0;34m\u001b[0m\u001b[0m\n\u001b[0;32m----> 5\u001b[0;31m \u001b[0mwriter\u001b[0m\u001b[0;34m.\u001b[0m\u001b[0mwriterow\u001b[0m\u001b[0;34m(\u001b[0m\u001b[0mheader\u001b[0m\u001b[0;34m)\u001b[0m\u001b[0;34m\u001b[0m\u001b[0;34m\u001b[0m\u001b[0m\n\u001b[0m\u001b[1;32m      6\u001b[0m \u001b[0;32mfor\u001b[0m \u001b[0mi\u001b[0m\u001b[0;34m,\u001b[0m \u001b[0mp\u001b[0m \u001b[0;32min\u001b[0m \u001b[0menumerate\u001b[0m\u001b[0;34m(\u001b[0m\u001b[0mpredictions\u001b[0m\u001b[0;34m,\u001b[0m\u001b[0;36m1\u001b[0m\u001b[0;34m)\u001b[0m\u001b[0;34m:\u001b[0m\u001b[0;34m\u001b[0m\u001b[0;34m\u001b[0m\u001b[0m\n\u001b[1;32m      7\u001b[0m     \u001b[0mwriter\u001b[0m\u001b[0;34m.\u001b[0m\u001b[0mwriterow\u001b[0m\u001b[0;34m(\u001b[0m\u001b[0;34m[\u001b[0m\u001b[0;34m\"{},{}\"\u001b[0m\u001b[0;34m.\u001b[0m\u001b[0mformat\u001b[0m\u001b[0;34m(\u001b[0m\u001b[0mi\u001b[0m\u001b[0;34m,\u001b[0m \u001b[0;34m\"Cat\"\u001b[0m \u001b[0;32mif\u001b[0m \u001b[0mp\u001b[0m\u001b[0;34m==\u001b[0m\u001b[0;36m0\u001b[0m \u001b[0;32melse\u001b[0m \u001b[0;34m\"Dog\"\u001b[0m\u001b[0;34m)\u001b[0m\u001b[0;34m]\u001b[0m\u001b[0;34m)\u001b[0m\u001b[0;34m\u001b[0m\u001b[0;34m\u001b[0m\u001b[0m\n",
      "\u001b[0;31mError\u001b[0m: need to escape, but no escapechar set"
     ]
    }
   ],
   "source": [
    "import csv\n",
    "file = open(\"predictions.csv\", 'w')\n",
    "writer = csv.writer(file, quoting=csv.QUOTE_NONE)\n",
    "header = [\"id,label\"]\n",
    "writer.writerow(header)\n",
    "for i, p in enumerate(predictions,1):\n",
    "    writer.writerow([\"{},{}\".format(i, \"Cat\" if p==0 else \"Dog\")])\n",
    "file.close()"
   ]
  },
  {
   "cell_type": "code",
   "execution_count": null,
   "metadata": {},
   "outputs": [],
   "source": []
  }
 ],
 "metadata": {
  "kernelspec": {
   "display_name": "Python 3",
   "language": "python",
   "name": "python3"
  },
  "language_info": {
   "codemirror_mode": {
    "name": "ipython",
    "version": 3
   },
   "file_extension": ".py",
   "mimetype": "text/x-python",
   "name": "python",
   "nbconvert_exporter": "python",
   "pygments_lexer": "ipython3",
   "version": "3.6.7"
  }
 },
 "nbformat": 4,
 "nbformat_minor": 2
}
