{
 "cells": [
  {
   "cell_type": "markdown",
   "metadata": {},
   "source": [
    "# Problem 3"
   ]
  },
  {
   "cell_type": "code",
   "execution_count": null,
   "metadata": {},
   "outputs": [],
   "source": [
    "import PIL\n",
    "import glob\n",
    "import math\n",
    "from random import uniform\n",
    "import numpy as np\n",
    "from PIL import Image\n",
    "from sklearn.model_selection import train_test_split\n",
    "import torch\n",
    "import torch.nn as nn\n",
    "import torch.nn.functional as F\n",
    "import torch.optim as optim\n",
    "import torch.utils.data as data"
   ]
  },
  {
   "cell_type": "markdown",
   "metadata": {},
   "source": [
    "## Functions"
   ]
  },
  {
   "cell_type": "code",
   "execution_count": null,
   "metadata": {},
   "outputs": [],
   "source": [
    "def rotate(img, angle_deg):\n",
    "    angle_rad = angle_deg * math.pi / 180\n",
    "    rotate_img = img.rotate(angle_deg, PIL.Image.BILINEAR)\n",
    "    sin, cos = abs(math.sin(angle_rad)), abs(math.cos(angle_rad))\n",
    "    crop = 64 * (cos - sin)/(cos**2 - sin**2)\n",
    "    upper = left = math.ceil((64-crop)/2)\n",
    "    lower = right = math.ceil((64-crop)/2 + crop)\n",
    "    rotate_img = rotate_img.crop(box=(left, upper, right, lower))\n",
    "    rotate_img = rotate_img.resize((64, 64), PIL.Image.BILINEAR)\n",
    "    return rotate_img"
   ]
  },
  {
   "cell_type": "code",
   "execution_count": null,
   "metadata": {},
   "outputs": [],
   "source": [
    "def scale(img, factor):\n",
    "    crop = 64 * (1 - factor / 100)\n",
    "    upper = left = math.ceil((64-crop)/2)\n",
    "    lower = right = math.ceil((64-crop)/2 + crop)\n",
    "    scale_img = img.crop(box=(left, upper, right, lower))\n",
    "    scale_img = scale_img.resize((64, 64), PIL.Image.BILINEAR)\n",
    "    return scale_img"
   ]
  },
  {
   "cell_type": "code",
   "execution_count": null,
   "metadata": {},
   "outputs": [],
   "source": [
    "def load_train(path,\n",
    "               augmentation=False,\n",
    "               augmentation_size=10,\n",
    "               max_rotate=30,\n",
    "               max_scale=50,\n",
    "               verbose=False):\n",
    "    x, y = [], []\n",
    "    for file in glob.glob(path + \"**/*.jpg\", recursive=True):\n",
    "        img = Image.open(file)\n",
    "        try:\n",
    "            data = list(tuple(p) for p in img.getdata())\n",
    "        except:\n",
    "            if verbose:\n",
    "                print(\"Error loading file {}\".format(file))\n",
    "        else:\n",
    "            x.append(np.array(data).reshape(64, 64, 3))\n",
    "            y.append(0 if \"Cat\" in file else 1)\n",
    "            if augmentation:\n",
    "                for _ in range(augmentation_size):\n",
    "                    #scale\n",
    "                    scale_img = scale(img, uniform(1, max_scale))\n",
    "                    data = list(tuple(p) for p in scale_img.getdata())\n",
    "                    x.append(np.array(data).reshape(64, 64, 3))\n",
    "                    y.append(0 if \"Cat\" in file else 1)\n",
    "                    #rotate\n",
    "                    rotate_img = rotate(img, uniform(-max_scale, max_scale))\n",
    "                    data = list(tuple(p) for p in scale_img.getdata())\n",
    "                    x.append(np.array(data).reshape(64, 64, 3))\n",
    "                    y.append(0 if \"Cat\" in file else 1)\n",
    "    x = np.asarray(x).swapaxes(1, 3).swapaxes(2, 3).astype(\"float32\") / 255.\n",
    "    y = np.asarray(y).reshape(-1, 1)\n",
    "    return x, y"
   ]
  },
  {
   "cell_type": "markdown",
   "metadata": {},
   "source": [
    "Note it is not the best way to call *augmentation_size* times the function *scale* and *rotate* (see [here](https://wiki.python.org/moin/PythonSpeed/PerformanceTips)), but it is easier to understand."
   ]
  },
  {
   "cell_type": "markdown",
   "metadata": {},
   "source": [
    "## Model"
   ]
  },
  {
   "cell_type": "code",
   "execution_count": null,
   "metadata": {},
   "outputs": [],
   "source": [
    "class Net(nn.Module):\n",
    "    def __init__(self):\n",
    "        super(Net, self).__init__()\n",
    "        self.conv = nn.Sequential(\n",
    "            nn.Conv2d(3, 8, kernel_size=3, stride=1, padding=1),\n",
    "            nn.MaxPool2d(2, 2), nn.ReLU(),\n",
    "            nn.Conv2d(8, 16, kernel_size=3, stride=1, padding=1),\n",
    "            nn.MaxPool2d(2, 2), nn.ReLU(),\n",
    "            nn.Conv2d(16, 32, kernel_size=5, stride=1), nn.MaxPool2d(2, 2),\n",
    "            nn.ReLU())\n",
    "\n",
    "        self.mlp = nn.Sequential(\n",
    "            nn.Linear(32 * 6 * 6, 100), nn.ReLU(), nn.Linear(100, 1))\n",
    "\n",
    "    def forward(self, x):\n",
    "        x = self.conv(x)\n",
    "        x = torch.sigmoid(self.mlp(x.view(-1, 32 * 6 * 6)))\n",
    "        return x\n",
    "\n",
    "    def evaluate(self, loader):\n",
    "        with torch.no_grad():\n",
    "            correct, total = 0, 0\n",
    "            for data in loader:\n",
    "                # get the inputs\n",
    "                inputs, labels = data\n",
    "                inputs, labels = inputs.to(device), labels.to(device)\n",
    "                ouputs = self(inputs)\n",
    "                val_loss = criterion(ouputs, labels)\n",
    "                total += labels.size(0)\n",
    "                predicted = (ouputs > 0.5).float()\n",
    "                correct += (predicted == labels).sum().item()\n",
    "#                 print(\"7\")\n",
    "        return val_loss, correct / total"
   ]
  },
  {
   "cell_type": "markdown",
   "metadata": {},
   "source": [
    "## Load data"
   ]
  },
  {
   "cell_type": "code",
   "execution_count": null,
   "metadata": {},
   "outputs": [],
   "source": [
    "x, y = load_train(\"data/kaggle/trainset/\", augmentation=False, verbose=True)"
   ]
  },
  {
   "cell_type": "code",
   "execution_count": null,
   "metadata": {},
   "outputs": [],
   "source": [
    "x_train, x_valid, y_train, y_valid = train_test_split(\n",
    "    x, y, test_size=0.1, stratify=y)"
   ]
  },
  {
   "cell_type": "code",
   "execution_count": null,
   "metadata": {},
   "outputs": [],
   "source": [
    "x_train = torch.from_numpy(x_train).float()\n",
    "y_train = torch.from_numpy(y_train).float()\n",
    "x_valid = torch.from_numpy(x_valid).float()\n",
    "y_valid = torch.from_numpy(y_valid).float()"
   ]
  },
  {
   "cell_type": "code",
   "execution_count": null,
   "metadata": {},
   "outputs": [],
   "source": [
    "train = torch.utils.data.TensorDataset(x_train, y_train)\n",
    "trainloader = torch.utils.data.DataLoader(train, batch_size=1, shuffle=True)"
   ]
  },
  {
   "cell_type": "code",
   "execution_count": null,
   "metadata": {},
   "outputs": [],
   "source": [
    "valid = torch.utils.data.TensorDataset(x_valid, y_valid)\n",
    "validloader = torch.utils.data.DataLoader(valid, batch_size=1, shuffle=True)"
   ]
  },
  {
   "cell_type": "markdown",
   "metadata": {},
   "source": [
    "## Train model"
   ]
  },
  {
   "cell_type": "code",
   "execution_count": null,
   "metadata": {},
   "outputs": [],
   "source": [
    "model = Net()\n",
    "device = torch.device(\"cuda:0\" if torch.cuda.is_available() else \"cpu\")\n",
    "model.to(device)\n",
    "print(\"Let\\'s use {}\".format(device))"
   ]
  },
  {
   "cell_type": "code",
   "execution_count": null,
   "metadata": {},
   "outputs": [],
   "source": [
    "criterion = nn.BCELoss()\n",
    "optimizer = optim.SGD(model.parameters(), lr=0.001)"
   ]
  },
  {
   "cell_type": "code",
   "execution_count": null,
   "metadata": {},
   "outputs": [],
   "source": [
    "best_val_acc, train_loss, val_loss = -1, None, None\n",
    "print(\"{:5s} | {:10s} | {:10s} | {:10s}\".format(\"epoch\", \"train_loss\",\n",
    "                                                \"valid_loss\", \"valid_acc\"))\n",
    "for epoch in range(25):  # loop over the dataset multiple times\n",
    "    model.train()\n",
    "    for i, data in enumerate(trainloader, 1):\n",
    "        # get the inputs\n",
    "        inputs, labels = data\n",
    "        inputs, labels = inputs.to(device), labels.to(device)\n",
    "        # zero the parameter gradients\n",
    "        optimizer.zero_grad()\n",
    "        # forward + backward + optimize\n",
    "        outputs = model(inputs)\n",
    "        train_loss = criterion(outputs, labels)\n",
    "        train_loss.backward()\n",
    "        optimizer.step()\n",
    "    if val_acc > best_val_acc:\n",
    "        best_val_acc = val_acc\n",
    "        torch.save(model.state_dict(), \"best_model\")\n",
    "        print(\"\\tsaved!\", end=\"\")\n",
    "    print(\"\")\n",
    "model.load_state_dict(torch.load(\"best_model\"))"
   ]
  },
  {
   "cell_type": "code",
   "execution_count": null,
   "metadata": {},
   "outputs": [],
   "source": []
  },
  {
   "cell_type": "code",
   "execution_count": null,
   "metadata": {},
   "outputs": [],
   "source": []
  }
 ],
 "metadata": {
  "kernelspec": {
   "display_name": "Python 3",
   "language": "python",
   "name": "python3"
  },
  "language_info": {
   "codemirror_mode": {
    "name": "ipython",
    "version": 3
   },
   "file_extension": ".py",
   "mimetype": "text/x-python",
   "name": "python",
   "nbconvert_exporter": "python",
   "pygments_lexer": "ipython3",
   "version": "3.6.7"
  }
 },
 "nbformat": 4,
 "nbformat_minor": 2
}
